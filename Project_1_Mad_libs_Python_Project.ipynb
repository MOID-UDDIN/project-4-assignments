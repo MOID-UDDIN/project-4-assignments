{
  "nbformat": 4,
  "nbformat_minor": 0,
  "metadata": {
    "colab": {
      "provenance": [],
      "authorship_tag": "ABX9TyP+jdK/LhPtZzpL9Uf7wAzu",
      "include_colab_link": true
    },
    "kernelspec": {
      "name": "python3",
      "display_name": "Python 3"
    },
    "language_info": {
      "name": "python"
    }
  },
  "cells": [
    {
      "cell_type": "markdown",
      "metadata": {
        "id": "view-in-github",
        "colab_type": "text"
      },
      "source": [
        "<a href=\"https://colab.research.google.com/github/MOID-UDDIN/project-4-assignments/blob/main/Project_1_Mad_libs_Python_Project.ipynb\" target=\"_parent\"><img src=\"https://colab.research.google.com/assets/colab-badge.svg\" alt=\"Open In Colab\"/></a>"
      ]
    },
    {
      "cell_type": "markdown",
      "source": [
        "# **Project 1: Mad libs Python Project**"
      ],
      "metadata": {
        "id": "CN16qq8er7xu"
      }
    },
    {
      "cell_type": "code",
      "execution_count": null,
      "metadata": {
        "colab": {
          "base_uri": "https://localhost:8080/"
        },
        "id": "prlODbI_oJLw",
        "outputId": "2fffd990-0010-4ce3-9ac7-d36626fcd90d"
      },
      "outputs": [
        {
          "output_type": "stream",
          "name": "stdout",
          "text": [
            "Welcome to the Programming MadLib Game!\n",
            "\n",
            "Enter an adjective: cool\n",
            "Enter a noun: function\n",
            "Enter a verb: fix\n",
            "Enter a place: home\n",
            "Enter an adverb: easily\n",
            "\n",
            "Your MadLib Story:\n",
            "\n",
            "At home, I wrote a cool program using a function. It helped me fix easily and solve the problem!\n"
          ]
        }
      ],
      "source": [
        "def main():\n",
        "    print(\"Welcome to the Programming MadLib Game!\\n\")\n",
        "\n",
        "    adjective = input(\"Enter an adjective: \")\n",
        "    noun = input(\"Enter a noun: \")\n",
        "    verb = input(\"Enter a verb: \")\n",
        "    place = input(\"Enter a place: \")\n",
        "    adverb = input(\"Enter an adverb: \")\n",
        "\n",
        "    story = f\"\\nAt {place}, I wrote a {adjective} program using a {noun}. It helped me {verb} {adverb} and solve the problem!\"\n",
        "\n",
        "    print(\"\\nYour MadLib Story:\")\n",
        "    print(story)\n",
        "\n",
        "if __name__ == \"__main__\":\n",
        "    main()"
      ]
    }
  ]
}