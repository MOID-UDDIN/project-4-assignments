{
  "nbformat": 4,
  "nbformat_minor": 0,
  "metadata": {
    "colab": {
      "provenance": [],
      "authorship_tag": "ABX9TyN+WmwowNk9oUIwb260id8m",
      "include_colab_link": true
    },
    "kernelspec": {
      "name": "python3",
      "display_name": "Python 3"
    },
    "language_info": {
      "name": "python"
    }
  },
  "cells": [
    {
      "cell_type": "markdown",
      "metadata": {
        "id": "view-in-github",
        "colab_type": "text"
      },
      "source": [
        "<a href=\"https://colab.research.google.com/github/MOID-UDDIN/project-4-assignments/blob/main/assignments_01.ipynb\" target=\"_parent\"><img src=\"https://colab.research.google.com/assets/colab-badge.svg\" alt=\"Open In Colab\"/></a>"
      ]
    },
    {
      "cell_type": "markdown",
      "source": [
        "# **01_basics**"
      ],
      "metadata": {
        "id": "bYg9w0QnFVlC"
      }
    },
    {
      "cell_type": "markdown",
      "source": [
        "### **00_joke_bot**"
      ],
      "metadata": {
        "id": "ZrNVk3ZFFli_"
      }
    },
    {
      "cell_type": "code",
      "source": [
        "PROMPT = \"What do you want? \"\n",
        "JOKE = \"Here is a joke for you! Panaversity GPT - Sophia is heading out to the grocery store. A programmer tells her: get a liter of milk, and if they have eggs, get 12. Sophia returns with 13 liters of milk. The programmer asks why and Sophia replies: 'because they had eggs'\"\n",
        "SORRY = \"Sorry I only tell jokes\"\n",
        "\n",
        "def main():\n",
        "    user_input = input(PROMPT).strip()\n",
        "\n",
        "    if user_input.lower() == \"joke\":\n",
        "        print(JOKE)\n",
        "    else:\n",
        "        print(SORRY)\n",
        "\n",
        "if __name__ == '__main__':\n",
        "    main()\n"
      ],
      "metadata": {
        "colab": {
          "base_uri": "https://localhost:8080/"
        },
        "id": "Zu1bozkPGDUT",
        "outputId": "63ed0524-eb69-431e-cdee-2064c1c8b387"
      },
      "execution_count": null,
      "outputs": [
        {
          "output_type": "stream",
          "name": "stdout",
          "text": [
            "What do you want? joke\n",
            "Here is a joke for you! Panaversity GPT - Sophia is heading out to the grocery store. A programmer tells her: get a liter of milk, and if they have eggs, get 12. Sophia returns with 13 liters of milk. The programmer asks why and Sophia replies: 'because they had eggs'\n"
          ]
        }
      ]
    },
    {
      "cell_type": "markdown",
      "source": [
        "### **01_double_it**"
      ],
      "metadata": {
        "id": "LwW5JPhmG8Kp"
      }
    },
    {
      "cell_type": "code",
      "source": [
        "def main():\n",
        "\n",
        "    curr_value = int(input(\"Enter a number: \"))\n",
        "\n",
        "    if curr_value >= 100:\n",
        "        print(\"The number is already 100 or greater. No doubling needed.\")\n",
        "    else:\n",
        "        while curr_value < 100:\n",
        "            curr_value = curr_value * 2\n",
        "            print(curr_value, end=\" \")\n",
        "\n",
        "if __name__ == '__main__':\n",
        "    main()\n"
      ],
      "metadata": {
        "colab": {
          "base_uri": "https://localhost:8080/"
        },
        "id": "hYr19ToCHq9T",
        "outputId": "feb52853-272c-4d67-ae4b-c5159d6a5874"
      },
      "execution_count": null,
      "outputs": [
        {
          "output_type": "stream",
          "name": "stdout",
          "text": [
            "Enter a number: 20\n",
            "40 80 160 "
          ]
        }
      ]
    },
    {
      "cell_type": "markdown",
      "source": [
        "### **02_liftoff**"
      ],
      "metadata": {
        "id": "MQEFM9KMIAJg"
      }
    },
    {
      "cell_type": "code",
      "source": [
        "def main():\n",
        "    for i in range(10, 0, -1):\n",
        "        print(i, end=\" \")\n",
        "\n",
        "    print(\"Liftoff!\")\n",
        "\n",
        "if __name__ == '__main__':\n",
        "    main()\n"
      ],
      "metadata": {
        "colab": {
          "base_uri": "https://localhost:8080/"
        },
        "id": "-JRDIK65IQQI",
        "outputId": "dc8f8fb4-e6b4-4db3-ab08-48a3869f94e6"
      },
      "execution_count": null,
      "outputs": [
        {
          "output_type": "stream",
          "name": "stdout",
          "text": [
            "10 9 8 7 6 5 4 3 2 1 Liftoff!\n"
          ]
        }
      ]
    },
    {
      "cell_type": "markdown",
      "source": [
        "### **03_guess_my_number**"
      ],
      "metadata": {
        "id": "1KQt0AspI3PP"
      }
    },
    {
      "cell_type": "code",
      "source": [
        "import random\n",
        "\n",
        "def main():\n",
        "\n",
        "    secret_number = random.randint(0, 99)\n",
        "\n",
        "    print(\"I am thinking of a number between 0 and 99...\")\n",
        "\n",
        "    while True:\n",
        "        guess = int(input(\"Enter a guess: \"))\n",
        "\n",
        "        if guess > secret_number:\n",
        "            print(\"Your guess is too high\")\n",
        "        elif guess < secret_number:\n",
        "            print(\"Your guess is too low\")\n",
        "        else:\n",
        "            print(f\"Congrats! The number was: {secret_number}\")\n",
        "            break\n",
        "if __name__ == '__main__':\n",
        "    main()\n"
      ],
      "metadata": {
        "colab": {
          "base_uri": "https://localhost:8080/"
        },
        "id": "bfkXKXADJNCp",
        "outputId": "3f2a20be-e9b9-44a6-8b58-de3337903ca0"
      },
      "execution_count": null,
      "outputs": [
        {
          "output_type": "stream",
          "name": "stdout",
          "text": [
            "I am thinking of a number between 0 and 99...\n",
            "Enter a guess: 75\n",
            "Your guess is too high\n",
            "Enter a guess: 65\n",
            "Your guess is too high\n",
            "Enter a guess: 45\n",
            "Your guess is too high\n",
            "Enter a guess: 25\n",
            "Your guess is too low\n",
            "Enter a guess: 35\n",
            "Your guess is too low\n",
            "Enter a guess: 40\n",
            "Congrats! The number was: 40\n"
          ]
        }
      ]
    },
    {
      "cell_type": "markdown",
      "source": [
        "### **04_random_numbers**"
      ],
      "metadata": {
        "id": "B6ndtce-Jibj"
      }
    },
    {
      "cell_type": "code",
      "source": [
        "import random\n",
        "\n",
        "N_NUMBERS: int = 10\n",
        "MIN_VALUE: int = 1\n",
        "MAX_VALUE: int = 100\n",
        "\n",
        "def main():\n",
        "\n",
        "    for _ in range(N_NUMBERS):\n",
        "        print(random.randint(MIN_VALUE, MAX_VALUE), end=\" \")\n",
        "\n",
        "    print()\n",
        "\n",
        "if __name__ == '__main__':\n",
        "    main()\n"
      ],
      "metadata": {
        "colab": {
          "base_uri": "https://localhost:8080/"
        },
        "id": "qtWDrNCxJ2Tk",
        "outputId": "9bbbe00b-cb71-4a75-a321-1db672e4e69b"
      },
      "execution_count": null,
      "outputs": [
        {
          "output_type": "stream",
          "name": "stdout",
          "text": [
            "71 25 49 82 1 37 77 54 90 7 \n"
          ]
        }
      ]
    },
    {
      "cell_type": "markdown",
      "source": [
        "# **02_intermediate**"
      ],
      "metadata": {
        "id": "_W2Gq1LJLHUC"
      }
    },
    {
      "cell_type": "markdown",
      "source": [
        "### **Control Flow for Console**"
      ],
      "metadata": {
        "id": "KBM68n12Lz-r"
      }
    },
    {
      "cell_type": "code",
      "source": [
        "# High-Low Game\n",
        "\n",
        "import random\n",
        "\n",
        "NUM_ROUNDS = 5\n",
        "\n",
        "def main():\n",
        "    print(\"Welcome to the High-Low Game!\")\n",
        "    print(\"--------------------------------\")\n",
        "\n",
        "    score = 0\n",
        "\n",
        "    for round_num in range(1, NUM_ROUNDS + 1):\n",
        "        print(f\"Round {round_num}\")\n",
        "\n",
        "        user_number = random.randint(1, 100)\n",
        "        computer_number = random.randint(1, 100)\n",
        "\n",
        "        print(f\"Your number is {user_number}\")\n",
        "\n",
        "\n",
        "        while True:\n",
        "            guess = input(\"Do you think your number is higher or lower than the computer's? (higher/lower): \").strip().lower()\n",
        "            if guess in [\"higher\", \"lower\"]:\n",
        "                break\n",
        "            print(\"Invalid input! Please enter either 'higher' or 'lower'.\")\n",
        "\n",
        "\n",
        "        if (guess == \"higher\" and user_number > computer_number) or (guess == \"lower\" and user_number < computer_number):\n",
        "            print(\"You were right!\", end=\" \")\n",
        "            score += 1\n",
        "        else:\n",
        "            print(\"Aww, that's incorrect.\", end=\" \")\n",
        "\n",
        "        print(f\"The computer's number was {computer_number}\")\n",
        "        print(f\"Your score is now {score}\\n\")\n",
        "\n",
        "\n",
        "    print(\"Thanks for playing!\")\n",
        "    if score == NUM_ROUNDS:\n",
        "        print(\"Wow! You played perfectly!\")\n",
        "    elif score >= NUM_ROUNDS // 2:\n",
        "        print(\"Good job, you played really well!\")\n",
        "    else:\n",
        "        print(\"Better luck next time!\")\n",
        "\n",
        "if __name__ == '__main__':\n",
        "    main()\n",
        "\n"
      ],
      "metadata": {
        "colab": {
          "base_uri": "https://localhost:8080/"
        },
        "id": "m8kkTPs3MvGP",
        "outputId": "995f7094-7d27-4abd-954d-6a17a3afeb1a"
      },
      "execution_count": null,
      "outputs": [
        {
          "output_type": "stream",
          "name": "stdout",
          "text": [
            "Welcome to the High-Low Game!\n",
            "--------------------------------\n",
            "Round 1\n",
            "Your number is 77\n",
            "Do you think your number is higher or lower than the computer's? (higher/lower): lower\n",
            "Aww, that's incorrect. The computer's number was 18\n",
            "Your score is now 0\n",
            "\n",
            "Round 2\n",
            "Your number is 16\n",
            "Do you think your number is higher or lower than the computer's? (higher/lower): higher\n",
            "Aww, that's incorrect. The computer's number was 75\n",
            "Your score is now 0\n",
            "\n",
            "Round 3\n",
            "Your number is 29\n",
            "Do you think your number is higher or lower than the computer's? (higher/lower): lower\n",
            "You were right! The computer's number was 41\n",
            "Your score is now 1\n",
            "\n",
            "Round 4\n",
            "Your number is 78\n",
            "Do you think your number is higher or lower than the computer's? (higher/lower): higher\n",
            "You were right! The computer's number was 28\n",
            "Your score is now 2\n",
            "\n",
            "Round 5\n",
            "Your number is 31\n",
            "Do you think your number is higher or lower than the computer's? (higher/lower): lower\n",
            "You were right! The computer's number was 65\n",
            "Your score is now 3\n",
            "\n",
            "Thanks for playing!\n",
            "Good job, you played really well!\n"
          ]
        }
      ]
    },
    {
      "cell_type": "markdown",
      "source": [
        "### **Intro to Python**"
      ],
      "metadata": {
        "id": "3nJO4DJbTS2f"
      }
    },
    {
      "cell_type": "code",
      "source": [
        "# Planetary Weight Calculator\n",
        "\n",
        "def main():\n",
        "    planet_gravity = {\n",
        "        \"Mercury\": 0.376,\n",
        "        \"Venus\": 0.889,\n",
        "        \"Mars\": 0.378,\n",
        "        \"Jupiter\": 2.36,\n",
        "        \"Saturn\": 1.081,\n",
        "        \"Uranus\": 0.815,\n",
        "        \"Neptune\": 1.14\n",
        "    }\n",
        "\n",
        "\n",
        "    earth_weight = float(input(\"Enter a weight on Earth: \"))\n",
        "    planet = input(\"Enter a planet: \")\n",
        "\n",
        "\n",
        "    if planet in planet_gravity:\n",
        "        planet_weight = round(earth_weight * planet_gravity[planet], 2)\n",
        "        print(f\"The equivalent weight on {planet}: {planet_weight}\")\n",
        "    else:\n",
        "        print(\"Invalid planet name. Please enter a valid planet from the solar system.\")\n",
        "\n",
        "\n",
        "if __name__ == \"__main__\":\n",
        "    main()"
      ],
      "metadata": {
        "colab": {
          "base_uri": "https://localhost:8080/"
        },
        "id": "gDpZ8WpEXrZz",
        "outputId": "fd1cd5a1-9dbe-4535-ae9b-aea7db6b1476"
      },
      "execution_count": null,
      "outputs": [
        {
          "output_type": "stream",
          "name": "stdout",
          "text": [
            "Enter a weight on Earth: 70\n",
            "Enter a planet: Mars\n",
            "The equivalent weight on Mars: 26.46\n"
          ]
        }
      ]
    },
    {
      "cell_type": "markdown",
      "source": [
        "### **Lists and Dicts**"
      ],
      "metadata": {
        "id": "VrtzTTaPY0oG"
      }
    },
    {
      "cell_type": "code",
      "source": [
        "# Problem #1: List Practice\n",
        "def main():\n",
        "\n",
        "    fruit_list = ['apple', 'banana', 'orange', 'grape', 'pineapple']\n",
        "\n",
        "    print(\"Length of fruit list:\", len(fruit_list))\n",
        "\n",
        "    fruit_list.append('mango')\n",
        "\n",
        "    print(\"Updated fruit list:\", fruit_list)\n",
        "\n",
        "if __name__ == \"__main__\":\n",
        "    main()\n",
        "\n"
      ],
      "metadata": {
        "colab": {
          "base_uri": "https://localhost:8080/"
        },
        "id": "CSP0KHdHY36N",
        "outputId": "2a806fbc-9b3b-44d7-fac1-a066de33e182"
      },
      "execution_count": null,
      "outputs": [
        {
          "output_type": "stream",
          "name": "stdout",
          "text": [
            "Length of fruit list: 5\n",
            "Updated fruit list: ['apple', 'banana', 'orange', 'grape', 'pineapple', 'mango']\n"
          ]
        }
      ]
    },
    {
      "cell_type": "code",
      "source": [
        "# Problem #2: Index Game\n",
        "\n",
        "def access_element(my_list, index):\n",
        "    \"\"\"Returns the element at the given index or an error message.\"\"\"\n",
        "    if 0 <= index < len(my_list):\n",
        "        return f\"Element at index {index}: {my_list[index]}\"\n",
        "    return \"Index out of range!\"\n",
        "\n",
        "def modify_element(my_list, index, new_value):\n",
        "    \"\"\"Modifies the element at the given index or returns an error.\"\"\"\n",
        "    if 0 <= index < len(my_list):\n",
        "        my_list[index] = new_value\n",
        "        return f\"Updated list: {my_list}\"\n",
        "    return \"Index out of range!\"\n",
        "\n",
        "def slice_list(my_list, start, end):\n",
        "    \"\"\"Returns a sliced list with proper index handling.\"\"\"\n",
        "    if 0 <= start < len(my_list) and 0 <= end <= len(my_list):\n",
        "        return f\"Sliced list: {my_list[start:end]}\"\n",
        "    return \"Invalid indices!\"\n",
        "\n",
        "def main():\n",
        "    my_list = [\"apple\", \"banana\", \"cherry\", \"date\", \"elderberry\"]\n",
        "\n",
        "    while True:\n",
        "        print(\"\\nOperations: 1. Access  2. Modify  3. Slice  4. Exit\")\n",
        "        choice = input(\"Choose an operation: \")\n",
        "\n",
        "        if choice == \"1\":\n",
        "            index = int(input(\"Enter index: \"))\n",
        "            print(access_element(my_list, index))\n",
        "\n",
        "        elif choice == \"2\":\n",
        "            index = int(input(\"Enter index: \"))\n",
        "            new_value = input(\"Enter new value: \")\n",
        "            print(modify_element(my_list, index, new_value))\n",
        "\n",
        "        elif choice == \"3\":\n",
        "            start = int(input(\"Enter start index: \"))\n",
        "            end = int(input(\"Enter end index: \"))\n",
        "            print(slice_list(my_list, start, end))\n",
        "\n",
        "        elif choice == \"4\":\n",
        "            print(\"Exiting the game. Goodbye!\")\n",
        "            break\n",
        "\n",
        "        else:\n",
        "            print(\"Invalid choice! Please try again.\")\n",
        "\n",
        "if __name__ == \"__main__\":\n",
        "    main()\n"
      ],
      "metadata": {
        "colab": {
          "base_uri": "https://localhost:8080/"
        },
        "id": "2OkU6am-bH9b",
        "outputId": "0c48043e-f88a-4627-b10b-127e5af720a1"
      },
      "execution_count": null,
      "outputs": [
        {
          "output_type": "stream",
          "name": "stdout",
          "text": [
            "\n",
            "Operations: 1. Access  2. Modify  3. Slice  4. Exit\n",
            "Choose an operation: 1\n",
            "Enter index: 2\n",
            "Element at index 2: cherry\n",
            "\n",
            "Operations: 1. Access  2. Modify  3. Slice  4. Exit\n",
            "Choose an operation: 2\n",
            "Enter index: 1\n",
            "Enter new value: kiwi\n",
            "Updated list: ['apple', 'kiwi', 'cherry', 'date', 'elderberry']\n",
            "\n",
            "Operations: 1. Access  2. Modify  3. Slice  4. Exit\n",
            "Choose an operation: 3\n",
            "Enter start index: 1\n",
            "Enter end index: 4\n",
            "Sliced list: ['kiwi', 'cherry', 'date']\n",
            "\n",
            "Operations: 1. Access  2. Modify  3. Slice  4. Exit\n",
            "Choose an operation: 4\n",
            "Exiting the game. Goodbye!\n"
          ]
        }
      ]
    }
  ]
}