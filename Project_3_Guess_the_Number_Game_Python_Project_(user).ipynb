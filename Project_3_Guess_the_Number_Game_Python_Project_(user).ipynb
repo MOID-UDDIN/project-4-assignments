{
  "nbformat": 4,
  "nbformat_minor": 0,
  "metadata": {
    "colab": {
      "provenance": [],
      "authorship_tag": "ABX9TyMa7+l5f081eiZClzK4Pe/W",
      "include_colab_link": true
    },
    "kernelspec": {
      "name": "python3",
      "display_name": "Python 3"
    },
    "language_info": {
      "name": "python"
    }
  },
  "cells": [
    {
      "cell_type": "markdown",
      "metadata": {
        "id": "view-in-github",
        "colab_type": "text"
      },
      "source": [
        "<a href=\"https://colab.research.google.com/github/MOID-UDDIN/project-4-assignments/blob/main/Project_3_Guess_the_Number_Game_Python_Project_(user).ipynb\" target=\"_parent\"><img src=\"https://colab.research.google.com/assets/colab-badge.svg\" alt=\"Open In Colab\"/></a>"
      ]
    },
    {
      "cell_type": "markdown",
      "source": [
        "# **Project 3: Guess the Number Game Python Project (user)**"
      ],
      "metadata": {
        "id": "VJSe_czT4izd"
      }
    },
    {
      "cell_type": "code",
      "execution_count": null,
      "metadata": {
        "colab": {
          "base_uri": "https://localhost:8080/"
        },
        "id": "P9Zsydo44X9r",
        "outputId": "f53326ee-67f9-4a01-b82f-9cb09a3e5b98"
      },
      "outputs": [
        {
          "output_type": "stream",
          "name": "stdout",
          "text": [
            "Guess a number between 1 and 10: 6\n",
            "You guessed too high!\n",
            "Guess a number between 1 and 10: 3\n",
            "Congrats! You guessed the right number!\n"
          ]
        }
      ],
      "source": [
        "import random\n",
        "\n",
        "def user_guess(x: int):\n",
        "    random_no = random.randint(1, x)\n",
        "    guess = 0\n",
        "\n",
        "    while random_no != guess:\n",
        "        guess = int(input(f\"Guess a number between 1 and {x}: \"))\n",
        "        if guess > random_no:\n",
        "            print(\"You guessed too high!\")\n",
        "        elif guess < random_no:\n",
        "            print(\"You guessed too low!\")\n",
        "\n",
        "    print(\"Congrats! You guessed the right number!\")\n",
        "\n",
        "if __name__ == \"__main__\":\n",
        "    user_guess(10)\n"
      ]
    }
  ]
}