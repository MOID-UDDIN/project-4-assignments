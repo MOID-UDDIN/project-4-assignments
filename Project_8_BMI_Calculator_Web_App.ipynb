{
  "nbformat": 4,
  "nbformat_minor": 0,
  "metadata": {
    "colab": {
      "provenance": [],
      "authorship_tag": "ABX9TyPwA01XUqTWn9/v7ziTvTqZ",
      "include_colab_link": true
    },
    "kernelspec": {
      "name": "python3",
      "display_name": "Python 3"
    },
    "language_info": {
      "name": "python"
    }
  },
  "cells": [
    {
      "cell_type": "markdown",
      "metadata": {
        "id": "view-in-github",
        "colab_type": "text"
      },
      "source": [
        "<a href=\"https://colab.research.google.com/github/MOID-UDDIN/project-4-assignments/blob/main/Project_8_BMI_Calculator_Web_App.ipynb\" target=\"_parent\"><img src=\"https://colab.research.google.com/assets/colab-badge.svg\" alt=\"Open In Colab\"/></a>"
      ]
    },
    {
      "cell_type": "markdown",
      "source": [
        "# **Project 8: Create a Python Streamlit BMI Calculator Web App in Just 6 Minutes**"
      ],
      "metadata": {
        "id": "gYjNkHaotWjX"
      }
    },
    {
      "cell_type": "markdown",
      "source": [
        "**BMI Calculator:** [GitHub](https://github.com/MOID-UDDIN/bmi-calculator.git)  \n",
        "**BMI Calculator:** [Streamlit Link](https://bmi-calculator-inrn2mqyhgjfdtha3fd75c.streamlit.app/)\n"
      ],
      "metadata": {
        "id": "TEX834Tvr3KF"
      }
    }
  ]
}