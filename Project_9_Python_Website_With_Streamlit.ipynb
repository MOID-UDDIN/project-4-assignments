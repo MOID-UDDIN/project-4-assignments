{
  "nbformat": 4,
  "nbformat_minor": 0,
  "metadata": {
    "colab": {
      "provenance": [],
      "authorship_tag": "ABX9TyMOTY7tazoFM/n73AHy0tv2",
      "include_colab_link": true
    },
    "kernelspec": {
      "name": "python3",
      "display_name": "Python 3"
    },
    "language_info": {
      "name": "python"
    }
  },
  "cells": [
    {
      "cell_type": "markdown",
      "metadata": {
        "id": "view-in-github",
        "colab_type": "text"
      },
      "source": [
        "<a href=\"https://colab.research.google.com/github/MOID-UDDIN/project-4-assignments/blob/main/Project_9_Python_Website_With_Streamlit.ipynb\" target=\"_parent\"><img src=\"https://colab.research.google.com/assets/colab-badge.svg\" alt=\"Open In Colab\"/></a>"
      ]
    },
    {
      "cell_type": "markdown",
      "source": [
        "# **Project 9: Build a Python Website in 15 Minutes With Streamlit**"
      ],
      "metadata": {
        "id": "Y6A3xosnIo4q"
      }
    },
    {
      "cell_type": "markdown",
      "source": [
        "**Simple Data Dashboard:** [GitHub](https://github.com/MOID-UDDIN/simple-data-dashboard.git)  \n",
        "**Simple Data Dashboard:** [Streamlit Link](https://simple-data-dashboard-hybnt954pum659ljjfrcbm.streamlit.app/)\n"
      ],
      "metadata": {
        "id": "vhpnGKr7IYeT"
      }
    }
  ]
}