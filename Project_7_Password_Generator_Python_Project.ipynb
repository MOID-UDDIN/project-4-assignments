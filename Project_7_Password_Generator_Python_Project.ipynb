{
  "nbformat": 4,
  "nbformat_minor": 0,
  "metadata": {
    "colab": {
      "provenance": [],
      "authorship_tag": "ABX9TyPa20vG89l8samEspzohgyJ",
      "include_colab_link": true
    },
    "kernelspec": {
      "name": "python3",
      "display_name": "Python 3"
    },
    "language_info": {
      "name": "python"
    }
  },
  "cells": [
    {
      "cell_type": "markdown",
      "metadata": {
        "id": "view-in-github",
        "colab_type": "text"
      },
      "source": [
        "<a href=\"https://colab.research.google.com/github/MOID-UDDIN/project-4-assignments/blob/main/Project_7_Password_Generator_Python_Project.ipynb\" target=\"_parent\"><img src=\"https://colab.research.google.com/assets/colab-badge.svg\" alt=\"Open In Colab\"/></a>"
      ]
    },
    {
      "cell_type": "markdown",
      "source": [
        "# **Project 7: Password Generator Python Project**"
      ],
      "metadata": {
        "id": "mJz28C-VkdD_"
      }
    },
    {
      "cell_type": "code",
      "execution_count": null,
      "metadata": {
        "colab": {
          "base_uri": "https://localhost:8080/"
        },
        "id": "LskxWq7lkImz",
        "outputId": "b5ed8c02-caf8-4610-b590-a1c663b9054b"
      },
      "outputs": [
        {
          "output_type": "stream",
          "name": "stdout",
          "text": [
            "Welcome to your Password Generator\n",
            "Amount of passwords to generate: 4\n",
            "Input your password length: 8\n",
            "\n",
            "Here are your passwords:\n",
            "MqGC3E$5\n",
            "*Ms.mn4J\n",
            "lysWY4E@\n",
            "xPoy!tce\n"
          ]
        }
      ],
      "source": [
        "import random\n",
        "\n",
        "def generate_passwords(number, length):\n",
        "    chars = 'abcdefghijklmnopqrstuvwxyzABCDEFGHIJKLMNOPQRSTUVWXYZ1234567890!@#$%^&*().,?'\n",
        "\n",
        "    print('\\nHere are your passwords:')\n",
        "    for pwd in range(number):\n",
        "        password = ''\n",
        "        for c in range(length):\n",
        "            password += random.choice(chars)\n",
        "        print(password)\n",
        "\n",
        "def main():\n",
        "    print('Welcome to your Password Generator')\n",
        "\n",
        "    number = int(input('Amount of passwords to generate: '))\n",
        "    length = int(input('Input your password length: '))\n",
        "\n",
        "    generate_passwords(number, length)\n",
        "\n",
        "if __name__ == \"__main__\":\n",
        "    main()"
      ]
    }
  ]
}