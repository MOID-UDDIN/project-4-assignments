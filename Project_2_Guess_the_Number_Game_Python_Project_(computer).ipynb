{
  "nbformat": 4,
  "nbformat_minor": 0,
  "metadata": {
    "colab": {
      "provenance": [],
      "authorship_tag": "ABX9TyOSQJYJgsbmw2gz+ifxM9Z/",
      "include_colab_link": true
    },
    "kernelspec": {
      "name": "python3",
      "display_name": "Python 3"
    },
    "language_info": {
      "name": "python"
    }
  },
  "cells": [
    {
      "cell_type": "markdown",
      "metadata": {
        "id": "view-in-github",
        "colab_type": "text"
      },
      "source": [
        "<a href=\"https://colab.research.google.com/github/MOID-UDDIN/project-4-assignments/blob/main/Project_2_Guess_the_Number_Game_Python_Project_(computer).ipynb\" target=\"_parent\"><img src=\"https://colab.research.google.com/assets/colab-badge.svg\" alt=\"Open In Colab\"/></a>"
      ]
    },
    {
      "cell_type": "markdown",
      "source": [
        "# **Project 2: Guess the Number Game Python Project (computer)**"
      ],
      "metadata": {
        "id": "nRjKivGXtecr"
      }
    },
    {
      "cell_type": "code",
      "execution_count": null,
      "metadata": {
        "colab": {
          "base_uri": "https://localhost:8080/"
        },
        "id": "lTfXL3LotGRK",
        "outputId": "381faa19-7626-45e6-fafb-146726ffcff0"
      },
      "outputs": [
        {
          "output_type": "stream",
          "name": "stdout",
          "text": [
            "Welcome to the Number Guessing Game! The computer will try to guess your number.\n",
            "Think of a number between 1 and 10 and I will try to guess it.\n",
            "Is your number 4?\n",
            "Enter 'h' for too high, 'l' for too low, or 'c' for correct: l\n",
            "Is your number 10?\n",
            "Enter 'h' for too high, 'l' for too low, or 'c' for correct: h\n",
            "Is your number 9?\n",
            "Enter 'h' for too high, 'l' for too low, or 'c' for correct: h\n",
            "Is your number 8?\n",
            "Enter 'h' for too high, 'l' for too low, or 'c' for correct: h\n",
            "Is your number 5?\n",
            "Enter 'h' for too high, 'l' for too low, or 'c' for correct: l\n",
            "Is your number 7?\n",
            "Enter 'h' for too high, 'l' for too low, or 'c' for correct: c\n",
            "The computer guessed your number, 7, correctly!\n",
            "Thanks for playing! Try again anytime.\n"
          ]
        }
      ],
      "source": [
        "import random\n",
        "\n",
        "def computer_guess(x: int):\n",
        "    print(\"Welcome to the Number Guessing Game! The computer will try to guess your number.\")\n",
        "    print(f\"Think of a number between 1 and {x} and I will try to guess it.\")\n",
        "\n",
        "    low = 1\n",
        "    high = x\n",
        "    feedback = ''\n",
        "\n",
        "    while feedback != 'c':\n",
        "        guess = random.randint(low, high)\n",
        "        print(f\"Is your number {guess}?\")\n",
        "\n",
        "        feedback = input(\"Enter 'h' for too high, 'l' for too low, or 'c' for correct: \").lower()\n",
        "\n",
        "        if feedback == 'h':\n",
        "            high = guess - 1\n",
        "        elif feedback == 'l':\n",
        "            low = guess + 1\n",
        "        elif feedback == 'c':\n",
        "            print(f\"The computer guessed your number, {guess}, correctly!\")\n",
        "        else:\n",
        "            print(\"Invalid input. Please enter only 'h', 'l', or 'c'.\")\n",
        "\n",
        "    print(\"Thanks for playing! Try again anytime.\")\n",
        "\n",
        "computer_guess(10)\n"
      ]
    }
  ]
}