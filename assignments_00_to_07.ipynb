{
  "nbformat": 4,
  "nbformat_minor": 0,
  "metadata": {
    "colab": {
      "provenance": [],
      "authorship_tag": "ABX9TyN+qUDT5jYXUZLASc0OOhOk",
      "include_colab_link": true
    },
    "kernelspec": {
      "name": "python3",
      "display_name": "Python 3"
    },
    "language_info": {
      "name": "python"
    }
  },
  "cells": [
    {
      "cell_type": "markdown",
      "metadata": {
        "id": "view-in-github",
        "colab_type": "text"
      },
      "source": [
        "<a href=\"https://colab.research.google.com/github/MOID-UDDIN/project-4-assignments/blob/main/assignments_00_to_07.ipynb\" target=\"_parent\"><img src=\"https://colab.research.google.com/assets/colab-badge.svg\" alt=\"Open In Colab\"/></a>"
      ]
    },
    {
      "cell_type": "markdown",
      "source": [
        "# **00_intro_python**"
      ],
      "metadata": {
        "id": "NzmGRhvjEMr4"
      }
    },
    {
      "cell_type": "markdown",
      "source": [
        "### **01_add_two_numbers**"
      ],
      "metadata": {
        "id": "3bytCyNeFHqn"
      }
    },
    {
      "cell_type": "code",
      "source": [
        "def main():\n",
        "    num1 = int(input(\"Enter the first number: \"))\n",
        "    num2 = int(input(\"Enter the second number: \"))\n",
        "    total_sum = num1 + num2\n",
        "    print(f\"The sum of {num1} and {num2} is: {total_sum}\")\n",
        "\n",
        "if __name__ == '__main__':\n",
        "    main()\n"
      ],
      "metadata": {
        "colab": {
          "base_uri": "https://localhost:8080/"
        },
        "id": "hcE7AEgAFuT2",
        "outputId": "c67f92de-f8d9-4aeb-bbd2-e31aa512f49e"
      },
      "execution_count": null,
      "outputs": [
        {
          "output_type": "stream",
          "name": "stdout",
          "text": [
            "Enter the first number: 5\n",
            "Enter the second number: 10\n",
            "The sum of 5 and 10 is: 15\n"
          ]
        }
      ]
    },
    {
      "cell_type": "markdown",
      "source": [
        "### **02_agreement_bot**"
      ],
      "metadata": {
        "id": "Uy0tBKAOHpWX"
      }
    },
    {
      "cell_type": "code",
      "source": [
        "def main():\n",
        "    favorite_animal = input(\"What's your favorite animal? \")\n",
        "    print(f\"My favorite animal is also {favorite_animal}!\")\n",
        "\n",
        "if __name__ == '__main__':\n",
        "    main()"
      ],
      "metadata": {
        "colab": {
          "base_uri": "https://localhost:8080/"
        },
        "id": "gEaLhU7fIU6d",
        "outputId": "bbe5da44-601b-4d61-ac60-4d47be63ad48"
      },
      "execution_count": null,
      "outputs": [
        {
          "output_type": "stream",
          "name": "stdout",
          "text": [
            "What's your favorite animal? cat\n",
            "My favorite animal is also cat!\n"
          ]
        }
      ]
    },
    {
      "cell_type": "markdown",
      "source": [
        "### **03_fahrenheit_to_celsius**"
      ],
      "metadata": {
        "id": "BiaqcTqIJBIY"
      }
    },
    {
      "cell_type": "code",
      "source": [
        "def main():\n",
        "    fahrenheit = float(input(\"Enter temperature in Fahrenheit: \"))\n",
        "    celsius = (fahrenheit - 32) * 5.0 / 9.0\n",
        "    print(f\"Temperature: {fahrenheit}F = {celsius}C\")\n",
        "\n",
        "if __name__ == '__main__':\n",
        "    main()"
      ],
      "metadata": {
        "colab": {
          "base_uri": "https://localhost:8080/"
        },
        "id": "VyKnOPiPJIhE",
        "outputId": "97b4b26b-7f43-4728-aa7b-878dd6145f5f"
      },
      "execution_count": null,
      "outputs": [
        {
          "output_type": "stream",
          "name": "stdout",
          "text": [
            "Enter temperature in Fahrenheit: 98.6\n",
            "Temperature: 98.6F = 37.0C\n"
          ]
        }
      ]
    },
    {
      "cell_type": "markdown",
      "source": [
        "### **04_how_old_are_they**"
      ],
      "metadata": {
        "id": "sab1uC61J2U6"
      }
    },
    {
      "cell_type": "code",
      "source": [
        "def main():\n",
        "    anton = 21\n",
        "    beth = anton + 6\n",
        "    chen = beth + 20\n",
        "    drew = chen + anton\n",
        "    ethan = chen\n",
        "\n",
        "    print(f\"Anton is {anton}\")\n",
        "    print(f\"Beth is {beth}\")\n",
        "    print(f\"Chen is {chen}\")\n",
        "    print(f\"Drew is {drew}\")\n",
        "    print(f\"Ethan is {ethan}\")\n",
        "\n",
        "if __name__ == '__main__':\n",
        "    main()"
      ],
      "metadata": {
        "colab": {
          "base_uri": "https://localhost:8080/"
        },
        "id": "JzEVofzHJ8U4",
        "outputId": "683db6a1-6b0a-437f-c329-bea56fb175de"
      },
      "execution_count": null,
      "outputs": [
        {
          "output_type": "stream",
          "name": "stdout",
          "text": [
            "Anton is 21\n",
            "Beth is 27\n",
            "Chen is 47\n",
            "Drew is 68\n",
            "Ethan is 47\n"
          ]
        }
      ]
    },
    {
      "cell_type": "markdown",
      "source": [
        "### **05_triangle_perimeter**"
      ],
      "metadata": {
        "id": "viiVAOIlKdlF"
      }
    },
    {
      "cell_type": "code",
      "source": [
        "def main():\n",
        "    side1 = float(input(\"What is the length of side 1? \"))\n",
        "    side2 = float(input(\"What is the length of side 2? \"))\n",
        "    side3 = float(input(\"What is the length of side 3? \"))\n",
        "\n",
        "    perimeter = side1 + side2 + side3\n",
        "\n",
        "    print(f\"The perimeter of the triangle is {perimeter}\")\n",
        "\n",
        "if __name__ == '__main__':\n",
        "    main()"
      ],
      "metadata": {
        "colab": {
          "base_uri": "https://localhost:8080/"
        },
        "id": "bGa2WKYwKhVa",
        "outputId": "136b9c10-0fef-4908-e857-673f7f055b06"
      },
      "execution_count": null,
      "outputs": [
        {
          "output_type": "stream",
          "name": "stdout",
          "text": [
            "What is the length of side 1? 5\n",
            "What is the length of side 2? 6\n",
            "What is the length of side 3? 7\n",
            "The perimeter of the triangle is 18.0\n"
          ]
        }
      ]
    },
    {
      "cell_type": "markdown",
      "source": [
        "### **06_square_number**"
      ],
      "metadata": {
        "id": "p0iCx7TpLM-q"
      }
    },
    {
      "cell_type": "code",
      "source": [
        "def main():\n",
        "    num = float(input(\"Type a number to see its square: \"))\n",
        "    square = num * num\n",
        "    print(f\"{num} squared is {square}\")\n",
        "\n",
        "if __name__ == '__main__':\n",
        "    main()"
      ],
      "metadata": {
        "colab": {
          "base_uri": "https://localhost:8080/"
        },
        "id": "knXSGwi4LRP9",
        "outputId": "1bf038dc-4455-4735-e9c5-f1872894a3d8"
      },
      "execution_count": null,
      "outputs": [
        {
          "output_type": "stream",
          "name": "stdout",
          "text": [
            "Type a number to see its square: 4\n",
            "4.0 squared is 16.0\n"
          ]
        }
      ]
    },
    {
      "cell_type": "markdown",
      "source": [
        "# **01_expressions**"
      ],
      "metadata": {
        "id": "VicYLR-fM5Jk"
      }
    },
    {
      "cell_type": "markdown",
      "source": [
        "### **01_dicesimulator**"
      ],
      "metadata": {
        "id": "7tkTDswvN5RL"
      }
    },
    {
      "cell_type": "code",
      "source": [
        "import random\n",
        "\n",
        "def roll_dice():\n",
        "    return random.randint(1, 6)\n",
        "\n",
        "def main():\n",
        "    for i in range(3):\n",
        "        die1 = roll_dice()\n",
        "        die2 = roll_dice()\n",
        "        print(f\"Roll {i + 1}: Die 1 = {die1}, Die 2 = {die2}\")\n",
        "\n",
        "if __name__ == '__main__':\n",
        "    main()"
      ],
      "metadata": {
        "colab": {
          "base_uri": "https://localhost:8080/"
        },
        "id": "iYRdK7f_PvCk",
        "outputId": "52c0d83d-cc41-4fbb-9346-70199b81853d"
      },
      "execution_count": null,
      "outputs": [
        {
          "output_type": "stream",
          "name": "stdout",
          "text": [
            "Roll 1: Die 1 = 6, Die 2 = 1\n",
            "Roll 2: Die 1 = 1, Die 2 = 4\n",
            "Roll 3: Die 1 = 3, Die 2 = 1\n"
          ]
        }
      ]
    },
    {
      "cell_type": "markdown",
      "source": [
        "### **02_e=mc2**"
      ],
      "metadata": {
        "id": "75_QNEXuQXkH"
      }
    },
    {
      "cell_type": "code",
      "source": [
        "C = 299792458  # Speed of light in m/s\n",
        "\n",
        "def main():\n",
        "    mass_in_kg = float(input(\"Enter kilos of mass: \"))\n",
        "\n",
        "    energy_in_joules = mass_in_kg * (C ** 2)\n",
        "\n",
        "    print(\"e = m * C^2...\")\n",
        "    print(f\"m = {mass_in_kg} kg\")\n",
        "    print(f\"C = {C} m/s\")\n",
        "    print(f\"{energy_in_joules} joules of energy!\")\n",
        "\n",
        "if __name__ == '__main__':\n",
        "    main()"
      ],
      "metadata": {
        "colab": {
          "base_uri": "https://localhost:8080/"
        },
        "id": "8LaT_ubsQc4E",
        "outputId": "bdbdba62-124a-4005-e61c-968ec39cad45"
      },
      "execution_count": null,
      "outputs": [
        {
          "output_type": "stream",
          "name": "stdout",
          "text": [
            "Enter kilos of mass: 1\n",
            "e = m * C^2...\n",
            "m = 1.0 kg\n",
            "C = 299792458 m/s\n",
            "8.987551787368176e+16 joules of energy!\n"
          ]
        }
      ]
    },
    {
      "cell_type": "markdown",
      "source": [
        "### **03_feet_to_inches**"
      ],
      "metadata": {
        "id": "zhdIo4ACRd2Z"
      }
    },
    {
      "cell_type": "code",
      "source": [
        "def main():\n",
        "    feet = float(input(\"Enter feet: \"))\n",
        "    inches = feet * 12\n",
        "    print(f\"{feet} feet is equal to {inches} inches.\")\n",
        "\n",
        "if __name__ == '__main__':\n",
        "    main()"
      ],
      "metadata": {
        "colab": {
          "base_uri": "https://localhost:8080/"
        },
        "id": "eNgt59nYRkwA",
        "outputId": "82379c37-d4ab-4b49-c9c4-c360745a05a9"
      },
      "execution_count": null,
      "outputs": [
        {
          "output_type": "stream",
          "name": "stdout",
          "text": [
            "Enter feet: 5\n",
            "5.0 feet is equal to 60.0 inches.\n"
          ]
        }
      ]
    },
    {
      "cell_type": "markdown",
      "source": [
        "### **04_pythagorean_theorem**"
      ],
      "metadata": {
        "id": "Y0cpQGefR6rD"
      }
    },
    {
      "cell_type": "code",
      "source": [
        "import math\n",
        "\n",
        "def main():\n",
        "    ab = float(input(\"Enter the length of AB: \"))\n",
        "    ac = float(input(\"Enter the length of AC: \"))\n",
        "\n",
        "    bc = math.sqrt(ab**2 + ac**2)\n",
        "\n",
        "    print(f\"The length of BC (the hypotenuse) is: {bc}\")\n",
        "\n",
        "if __name__ == '__main__':\n",
        "    main()"
      ],
      "metadata": {
        "colab": {
          "base_uri": "https://localhost:8080/"
        },
        "id": "4fG2nrpfR-Bo",
        "outputId": "a19f871d-8df9-4703-9689-c7f1bdf66511"
      },
      "execution_count": null,
      "outputs": [
        {
          "output_type": "stream",
          "name": "stdout",
          "text": [
            "Enter the length of AB: 3\n",
            "Enter the length of AC: 4\n",
            "The length of BC (the hypotenuse) is: 5.0\n"
          ]
        }
      ]
    },
    {
      "cell_type": "markdown",
      "source": [
        "### **05_remainder_division**"
      ],
      "metadata": {
        "id": "XMlDSwH6Sn6g"
      }
    },
    {
      "cell_type": "code",
      "source": [
        "def main():\n",
        "    dividend = int(input(\"Please enter an integer to be divided: \"))\n",
        "    divisor = int(input(\"Please enter an integer to divide by: \"))\n",
        "\n",
        "    quotient = dividend // divisor\n",
        "    remainder = dividend % divisor\n",
        "\n",
        "    print(f\"The result of this division is {quotient} with a remainder of {remainder}\")\n",
        "\n",
        "if __name__ == '__main__':\n",
        "    main()"
      ],
      "metadata": {
        "colab": {
          "base_uri": "https://localhost:8080/"
        },
        "id": "TU_ljoszTU0T",
        "outputId": "5ef56455-3dcc-40d7-8272-392b1e4083f9"
      },
      "execution_count": null,
      "outputs": [
        {
          "output_type": "stream",
          "name": "stdout",
          "text": [
            "Please enter an integer to be divided: 10\n",
            "Please enter an integer to divide by: 3\n",
            "The result of this division is 3 with a remainder of 1\n"
          ]
        }
      ]
    },
    {
      "cell_type": "markdown",
      "source": [
        "### **06_rolldice**"
      ],
      "metadata": {
        "id": "Im0RIP51TgY6"
      }
    },
    {
      "cell_type": "code",
      "source": [
        "import random\n",
        "\n",
        "NUM_SIDES: int = 6\n",
        "\n",
        "def main():\n",
        "    die1: int = random.randint(1, NUM_SIDES)\n",
        "    die2: int = random.randint(1, NUM_SIDES)\n",
        "\n",
        "    total: int = die1 + die2\n",
        "\n",
        "    print(\"Dice have\", NUM_SIDES, \"sides each.\")\n",
        "    print(\"First die:\", die1)\n",
        "    print(\"Second die:\", die2)\n",
        "    print(\"Total of two dice:\", total)\n",
        "\n",
        "if __name__ == '__main__':\n",
        "    main()"
      ],
      "metadata": {
        "colab": {
          "base_uri": "https://localhost:8080/"
        },
        "id": "52G7cjfUTj6t",
        "outputId": "6e1f9e08-53ff-425c-b088-779db1ae2bce"
      },
      "execution_count": null,
      "outputs": [
        {
          "output_type": "stream",
          "name": "stdout",
          "text": [
            "Dice have 6 sides each.\n",
            "First die: 3\n",
            "Second die: 1\n",
            "Total of two dice: 4\n"
          ]
        }
      ]
    },
    {
      "cell_type": "markdown",
      "source": [
        "### **06_seconds_in_year**"
      ],
      "metadata": {
        "id": "qnWpdt15T8cm"
      }
    },
    {
      "cell_type": "code",
      "source": [
        "DAYS_PER_YEAR: int = 365\n",
        "HOURS_PER_DAY: int = 24\n",
        "MIN_PER_HOUR: int = 60\n",
        "SEC_PER_MIN: int = 60\n",
        "\n",
        "def main():\n",
        "\n",
        "    total_seconds = DAYS_PER_YEAR * HOURS_PER_DAY * MIN_PER_HOUR * SEC_PER_MIN\n",
        "\n",
        "    print(f\"There are {total_seconds} seconds in a year!\")\n",
        "\n",
        "if __name__ == '__main__':\n",
        "    main()"
      ],
      "metadata": {
        "colab": {
          "base_uri": "https://localhost:8080/"
        },
        "id": "ZHEoHW-OUBrP",
        "outputId": "7fa30e8b-9903-423f-e1b2-3dc6e3a399ae"
      },
      "execution_count": null,
      "outputs": [
        {
          "output_type": "stream",
          "name": "stdout",
          "text": [
            "There are 31536000 seconds in a year!\n"
          ]
        }
      ]
    },
    {
      "cell_type": "markdown",
      "source": [
        "### **07_tiny_mad_lib**"
      ],
      "metadata": {
        "id": "7hDzamtGUboT"
      }
    },
    {
      "cell_type": "code",
      "source": [
        "SENTENCE_START: str = \"Code in Place is fun. I learned to program and used Python to make my \"\n",
        "\n",
        "def main():\n",
        "\n",
        "    adjective: str = input(\"Please type an adjective and press enter. \")\n",
        "    noun: str = input(\"Please type a noun and press enter. \")\n",
        "    verb: str = input(\"Please type a verb and press enter. \")\n",
        "\n",
        "\n",
        "    print(SENTENCE_START + adjective + \" \" + noun + \" \" + verb + \"!\")\n",
        "\n",
        "\n",
        "\n",
        "if __name__ == '__main__':\n",
        "    main()"
      ],
      "metadata": {
        "colab": {
          "base_uri": "https://localhost:8080/"
        },
        "id": "QTnl4SgkUh3O",
        "outputId": "2114f38c-df75-49e5-bf4e-795c14686046"
      },
      "execution_count": null,
      "outputs": [
        {
          "output_type": "stream",
          "name": "stdout",
          "text": [
            "Please type an adjective and press enter. amazing\n",
            "Please type a noun and press enter. project\n",
            "Please type a verb and press enter. create\n",
            "Code in Place is fun. I learned to program and used Python to make my amazing project create!\n"
          ]
        }
      ]
    },
    {
      "cell_type": "markdown",
      "source": [
        "# **02_lists**"
      ],
      "metadata": {
        "id": "u2WgMRVKWH4p"
      }
    },
    {
      "cell_type": "markdown",
      "source": [
        "### **01_add_many_number**"
      ],
      "metadata": {
        "id": "3LrkbQ-0Wpee"
      }
    },
    {
      "cell_type": "code",
      "source": [
        "def sum_of_numbers(numbers):\n",
        "    total = 0\n",
        "    for num in numbers:\n",
        "        total += num\n",
        "    return total\n",
        "\n",
        "def main():\n",
        "    numbers_list = [1, 2, 3, 4, 5]\n",
        "    result = sum_of_numbers(numbers_list)\n",
        "    print(\"List:\", numbers_list)\n",
        "    print(\"Sum of numbers:\", result)\n",
        "\n",
        "if __name__ == '__main__':\n",
        "    main()"
      ],
      "metadata": {
        "colab": {
          "base_uri": "https://localhost:8080/"
        },
        "id": "6TudgQidWM4P",
        "outputId": "f6a1b3dd-f11f-422f-c30c-98e6ae4ddc3c"
      },
      "execution_count": null,
      "outputs": [
        {
          "output_type": "stream",
          "name": "stdout",
          "text": [
            "List: [1, 2, 3, 4, 5]\n",
            "Sum of numbers: 15\n"
          ]
        }
      ]
    },
    {
      "cell_type": "markdown",
      "source": [
        "### **02_double_list**"
      ],
      "metadata": {
        "id": "dWiJZKIkXDb2"
      }
    },
    {
      "cell_type": "code",
      "source": [
        "def main():\n",
        "    numbers = [1, 2, 3, 4]\n",
        "\n",
        "    for i in range(len(numbers)):\n",
        "        numbers[i] *= 2\n",
        "\n",
        "    print(\"Doubled List:\", numbers)\n",
        "\n",
        "if __name__ == '__main__':\n",
        "    main()"
      ],
      "metadata": {
        "colab": {
          "base_uri": "https://localhost:8080/"
        },
        "id": "QB5l4Ni6XJhV",
        "outputId": "78480764-a5e3-4652-e9ad-da844bbb3be2"
      },
      "execution_count": null,
      "outputs": [
        {
          "output_type": "stream",
          "name": "stdout",
          "text": [
            "Doubled List: [2, 4, 6, 8]\n"
          ]
        }
      ]
    },
    {
      "cell_type": "markdown",
      "source": [
        "### **03_erase_canvas**"
      ],
      "metadata": {
        "id": "w0ukkG42XmLg"
      }
    },
    {
      "cell_type": "code",
      "source": [
        "import tkinter as tk\n",
        "\n",
        "CANVAS_WIDTH = 400\n",
        "CANVAS_HEIGHT = 400\n",
        "CELL_SIZE = 40\n",
        "\n",
        "def create_grid(canvas):\n",
        "    cells = []\n",
        "    for row in range(0, CANVAS_HEIGHT, CELL_SIZE):\n",
        "        row_cells = []\n",
        "        for col in range(0, CANVAS_WIDTH, CELL_SIZE):\n",
        "            rect = canvas.create_rectangle(col, row, col + CELL_SIZE, row + CELL_SIZE, fill=\"blue\", outline=\"black\")\n",
        "            row_cells.append(rect)\n",
        "        cells.append(row_cells)\n",
        "    return cells\n",
        "\n",
        "def erase(event):\n",
        "    x, y = event.x, event.y\n",
        "    row = y // CELL_SIZE\n",
        "    col = x // CELL_SIZE\n",
        "\n",
        "    if 0 <= row < len(grid) and 0 <= col < len(grid[0]):\n",
        "        canvas.itemconfig(grid[row][col], fill=\"white\")\n",
        "\n",
        "def main():\n",
        "    global canvas, grid\n",
        "\n",
        "    root = tk.Tk()\n",
        "    root.title(\"Eraser on Canvas\")\n",
        "\n",
        "    canvas = tk.Canvas(root, width=CANVAS_WIDTH, height=CANVAS_HEIGHT, bg=\"white\")\n",
        "    canvas.pack()\n",
        "\n",
        "    grid = create_grid(canvas)\n",
        "\n",
        "    canvas.bind(\"<B1-Motion>\", erase)\n",
        "\n",
        "    root.mainloop()\n",
        "\n",
        "if __name__ == '__main__':\n",
        "    main()\n"
      ],
      "metadata": {
        "id": "-BK3_3hsXpzV"
      },
      "execution_count": null,
      "outputs": []
    },
    {
      "cell_type": "markdown",
      "source": [
        "### **04_flowing_with_data_structures**"
      ],
      "metadata": {
        "id": "x9-oZvnNYDeF"
      }
    },
    {
      "cell_type": "code",
      "source": [
        "def add_three_copies(my_list, data):\n",
        "    my_list.append(data)\n",
        "    my_list.append(data)\n",
        "    my_list.append(data)\n",
        "\n",
        "def main():\n",
        "    message = input(\"Enter a message to copy: \")\n",
        "    my_list = []\n",
        "    print(\"List before:\", my_list)\n",
        "    add_three_copies(my_list, message)\n",
        "    print(\"List after:\", my_list)\n",
        "\n",
        "if __name__ == '__main__':\n",
        "    main()"
      ],
      "metadata": {
        "colab": {
          "base_uri": "https://localhost:8080/"
        },
        "id": "ksbtg59lYoEL",
        "outputId": "238a53cf-e447-4e65-9521-f1a82bd191cf"
      },
      "execution_count": null,
      "outputs": [
        {
          "output_type": "stream",
          "name": "stdout",
          "text": [
            "Enter a message to copy: Hello\n",
            "List before: []\n",
            "List after: ['Hello', 'Hello', 'Hello']\n"
          ]
        }
      ]
    },
    {
      "cell_type": "markdown",
      "source": [
        "### **05_get_first_element**"
      ],
      "metadata": {
        "id": "qmZlYnFqZzIt"
      }
    },
    {
      "cell_type": "code",
      "source": [
        "def get_first_element(lst):\n",
        "    \"\"\" Prints the first element of a given non-empty list. \"\"\"\n",
        "    print(\"The first element in the list is:\", lst[0])\n",
        "\n",
        "def main():\n",
        "    n = int(input(\"Enter the number of elements in the list: \"))\n",
        "    lst = []\n",
        "\n",
        "    for i in range(n):\n",
        "        element = input(f\"Enter element {i+1}: \")\n",
        "        lst.append(element)\n",
        "\n",
        "    get_first_element(lst)\n",
        "\n",
        "\n",
        "if __name__ == '__main__':\n",
        "    main()"
      ],
      "metadata": {
        "colab": {
          "base_uri": "https://localhost:8080/"
        },
        "id": "GSD-PeGKZ2hM",
        "outputId": "0f619602-a971-4cd6-9471-da3cfeec8906"
      },
      "execution_count": null,
      "outputs": [
        {
          "output_type": "stream",
          "name": "stdout",
          "text": [
            "Enter the number of elements in the list: 3\n",
            "Enter element 1: Apple\n",
            "Enter element 2: Banana\n",
            "Enter element 3: Cherry\n",
            "The first element in the list is: Apple\n"
          ]
        }
      ]
    },
    {
      "cell_type": "markdown",
      "source": [
        "### **06_get_last_element**"
      ],
      "metadata": {
        "id": "IG1UzjHgaVaW"
      }
    },
    {
      "cell_type": "code",
      "source": [
        "def get_last_element(lst):\n",
        "    \"\"\" Prints the last element of a given non-empty list. \"\"\"\n",
        "    print(\"The Last element in the list is:\", lst[-1])\n",
        "\n",
        "def main():\n",
        "\n",
        "    n = int(input(\"Enter the number of elements in the list: \"))\n",
        "    lst = []\n",
        "\n",
        "    for i in range(n):\n",
        "        element = input(f\"Enter element {i+1}: \")\n",
        "        lst.append(element)\n",
        "\n",
        "\n",
        "    get_last_element(lst)\n",
        "\n",
        "\n",
        "if __name__ == '__main__':\n",
        "    main()"
      ],
      "metadata": {
        "colab": {
          "base_uri": "https://localhost:8080/"
        },
        "id": "zBkPgxdGab_a",
        "outputId": "ba482cc9-de6a-4114-9df0-aa1a39eb3599"
      },
      "execution_count": null,
      "outputs": [
        {
          "output_type": "stream",
          "name": "stdout",
          "text": [
            "Enter the number of elements in the list: 3\n",
            "Enter element 1: Apple\n",
            "Enter element 2: Banana\n",
            "Enter element 3: Cherry\n",
            "The Last element in the list is: Cherry\n"
          ]
        }
      ]
    },
    {
      "cell_type": "markdown",
      "source": [
        "### **07_get_list**"
      ],
      "metadata": {
        "id": "EwTtBgXIa2YC"
      }
    },
    {
      "cell_type": "code",
      "source": [
        "def main():\n",
        "    lst = []\n",
        "\n",
        "    while True:\n",
        "        value = input(\"Enter a value: \")\n",
        "\n",
        "        if value == \"\":\n",
        "            break\n",
        "\n",
        "        lst.append(value)\n",
        "\n",
        "    print(\"Here's the list:\", lst)\n",
        "\n",
        "\n",
        "if __name__ == '__main__':\n",
        "    main()"
      ],
      "metadata": {
        "colab": {
          "base_uri": "https://localhost:8080/"
        },
        "id": "a4rSdC6Qa5o0",
        "outputId": "8a57f2c6-fbd4-487f-9dfb-71063deef00d"
      },
      "execution_count": null,
      "outputs": [
        {
          "output_type": "stream",
          "name": "stdout",
          "text": [
            "Enter a value: Apple\n",
            "Enter a value: Orange\n",
            "Enter a value: Grapes\n",
            "Enter a value: \n",
            "Here's the list: ['Apple', 'Orange', 'Grapes']\n"
          ]
        }
      ]
    },
    {
      "cell_type": "markdown",
      "source": [
        "### **08_shorten**"
      ],
      "metadata": {
        "id": "HO3bGexBb4ik"
      }
    },
    {
      "cell_type": "code",
      "source": [
        "MAX_LENGTH = 3\n",
        "\n",
        "def shorten(lst):\n",
        "    while len(lst) > MAX_LENGTH:\n",
        "        removed_item = lst.pop()\n",
        "        print(\"Removed:\", removed_item)\n",
        "\n",
        "def main():\n",
        "    lst = []\n",
        "\n",
        "    n = int(input(\"Enter number of elements in the list: \"))\n",
        "    for _ in range(n):\n",
        "        value = input(\"Enter a value: \")\n",
        "        lst.append(value)\n",
        "\n",
        "    print(\"Original list:\", lst)\n",
        "    shorten(lst)\n",
        "    print(\"Shortened list:\", lst)\n",
        "\n",
        "if __name__ == '__main__':\n",
        "    main()"
      ],
      "metadata": {
        "colab": {
          "base_uri": "https://localhost:8080/"
        },
        "id": "nlvAjbL1cA0k",
        "outputId": "4cdbaa98-c91f-4137-c664-438d58f328f1"
      },
      "execution_count": null,
      "outputs": [
        {
          "output_type": "stream",
          "name": "stdout",
          "text": [
            "Enter number of elements in the list: 5\n",
            "Enter a value: Orange\n",
            "Enter a value: Banana\n",
            "Enter a value: Peach\n",
            "Enter a value: Cherry\n",
            "Enter a value: Lychee\n",
            "Original list: ['Orange', 'Banana', 'Peach', 'Cherry', 'Lychee']\n",
            "Removed: Lychee\n",
            "Removed: Cherry\n",
            "Shortened list: ['Orange', 'Banana', 'Peach']\n"
          ]
        }
      ]
    },
    {
      "cell_type": "markdown",
      "source": [
        "# **03_if_statements**"
      ],
      "metadata": {
        "id": "O4Y3JmAgdHPs"
      }
    },
    {
      "cell_type": "markdown",
      "source": [
        "### **01_print_events**"
      ],
      "metadata": {
        "id": "oUxYq4IMddJJ"
      }
    },
    {
      "cell_type": "code",
      "source": [
        "def main():\n",
        "    for i in range(20):\n",
        "        print(i * 2, end=\" \")\n",
        "\n",
        "if __name__ == '__main__':\n",
        "    main()\n"
      ],
      "metadata": {
        "colab": {
          "base_uri": "https://localhost:8080/"
        },
        "id": "cUCNuBg6d58n",
        "outputId": "126e2604-9f6a-4da3-b457-e7dbcb00b65e"
      },
      "execution_count": null,
      "outputs": [
        {
          "output_type": "stream",
          "name": "stdout",
          "text": [
            "0 2 4 6 8 10 12 14 16 18 20 22 24 26 28 30 32 34 36 38 "
          ]
        }
      ]
    },
    {
      "cell_type": "markdown",
      "source": [
        "### **02_international_voting_age**"
      ],
      "metadata": {
        "id": "vJI2WgYGfD54"
      }
    },
    {
      "cell_type": "code",
      "source": [
        "def main():\n",
        "    age = int(input(\"How old are you? \"))\n",
        "\n",
        "    if age >= 16:\n",
        "        print(\"You can vote in Peturksbouipo where the voting age is 16.\")\n",
        "    else:\n",
        "        print(\"You cannot vote in Peturksbouipo where the voting age is 16.\")\n",
        "\n",
        "    if age >= 25:\n",
        "        print(\"You can vote in Stanlau where the voting age is 25.\")\n",
        "    else:\n",
        "        print(\"You cannot vote in Stanlau where the voting age is 25.\")\n",
        "\n",
        "    if age >= 48:\n",
        "        print(\"You can vote in Mayengua where the voting age is 48.\")\n",
        "    else:\n",
        "        print(\"You cannot vote in Mayengua where the voting age is 48.\")\n",
        "\n",
        "if __name__ == '__main__':\n",
        "    main()\n"
      ],
      "metadata": {
        "colab": {
          "base_uri": "https://localhost:8080/"
        },
        "id": "gwh3vNq4fW2N",
        "outputId": "e72a11d0-8b21-4644-970d-43f6941998c2"
      },
      "execution_count": null,
      "outputs": [
        {
          "output_type": "stream",
          "name": "stdout",
          "text": [
            "How old are you? 25\n",
            "You can vote in Peturksbouipo where the voting age is 16.\n",
            "You can vote in Stanlau where the voting age is 25.\n",
            "You cannot vote in Mayengua where the voting age is 48.\n"
          ]
        }
      ]
    },
    {
      "cell_type": "markdown",
      "source": [
        "### **03_leap_year**"
      ],
      "metadata": {
        "id": "7DReFvPBfuof"
      }
    },
    {
      "cell_type": "code",
      "source": [
        "def main():\n",
        "    year = int(input('Please input a year: '))\n",
        "\n",
        "    if year % 4 == 0:\n",
        "        if year % 100 == 0:\n",
        "            if year % 400 == 0:\n",
        "                print(\"That's a leap year!\")\n",
        "            else:\n",
        "                print(\"That's not a leap year.\")\n",
        "        else:\n",
        "            print(\"That's a leap year!\")\n",
        "    else:\n",
        "        print(\"That's not a leap year.\")\n",
        "\n",
        "if __name__ == '__main__':\n",
        "    main()"
      ],
      "metadata": {
        "colab": {
          "base_uri": "https://localhost:8080/"
        },
        "id": "5rYliYCIfxxJ",
        "outputId": "3f21a535-35ab-4c97-ab0d-40137b526c31"
      },
      "execution_count": null,
      "outputs": [
        {
          "output_type": "stream",
          "name": "stdout",
          "text": [
            "Please input a year: 2024\n",
            "That's a leap year!\n"
          ]
        }
      ]
    },
    {
      "cell_type": "markdown",
      "source": [
        "### **04_tall_enough_to_ride**"
      ],
      "metadata": {
        "id": "Qn6Zp0MhgKjd"
      }
    },
    {
      "cell_type": "code",
      "source": [
        "def main():\n",
        "    while True:\n",
        "        height = input(\"How tall are you? \")\n",
        "\n",
        "        if height == \"\":\n",
        "            print(\"Exiting the program. Have a great day!\")\n",
        "            break\n",
        "\n",
        "        try:\n",
        "            height = int(height)\n",
        "\n",
        "            if height >= 50:\n",
        "                print(\"You're tall enough to ride!\\n\")\n",
        "            else:\n",
        "                print(\"You're not tall enough to ride, but maybe next year!\\n\")\n",
        "        except ValueError:\n",
        "            print(\"Invalid input! Please enter a valid number.\\n\")\n",
        "\n",
        "if __name__ == '__main__':\n",
        "    main()\n"
      ],
      "metadata": {
        "colab": {
          "base_uri": "https://localhost:8080/"
        },
        "id": "xqjpTvVmgNbO",
        "outputId": "b666573f-2dc2-4cd0-be7f-f9adf912f77e"
      },
      "execution_count": null,
      "outputs": [
        {
          "output_type": "stream",
          "name": "stdout",
          "text": [
            "How tall are you? 60\n",
            "You're tall enough to ride!\n",
            "\n",
            "How tall are you? abc\n",
            "Invalid input! Please enter a valid number.\n",
            "\n",
            "How tall are you? \n",
            "Exiting the program. Have a great day!\n"
          ]
        }
      ]
    },
    {
      "cell_type": "markdown",
      "source": [
        "### **05_random_numbers**"
      ],
      "metadata": {
        "id": "ISMQmzLqg5wp"
      }
    },
    {
      "cell_type": "code",
      "source": [
        "import random\n",
        "\n",
        "def main():\n",
        "    random_numbers = [random.randint(1, 100) for _ in range(10)]\n",
        "    print(*random_numbers)\n",
        "\n",
        "if __name__ == '__main__':\n",
        "    main()"
      ],
      "metadata": {
        "colab": {
          "base_uri": "https://localhost:8080/"
        },
        "id": "YW04R1MVhC_a",
        "outputId": "a6ac6631-0a17-49a1-a7aa-3d0089a6d002"
      },
      "execution_count": null,
      "outputs": [
        {
          "output_type": "stream",
          "name": "stdout",
          "text": [
            "40 61 99 41 30 1 72 88 2 18\n"
          ]
        }
      ]
    },
    {
      "cell_type": "markdown",
      "source": [
        "# **04_dictionaries**"
      ],
      "metadata": {
        "id": "39US9uOMhq7G"
      }
    },
    {
      "cell_type": "markdown",
      "source": [
        "### **00_count_nums**"
      ],
      "metadata": {
        "id": "ZtsURJ5Lh7S6"
      }
    },
    {
      "cell_type": "code",
      "source": [
        "def main():\n",
        "    num_counts = {}\n",
        "\n",
        "    while True:\n",
        "        user_input = input(\"Enter a number (or press Enter to stop):\")\n",
        "\n",
        "        if user_input == \"\":\n",
        "            break\n",
        "\n",
        "        number = int(user_input)\n",
        "\n",
        "        if number in num_counts:\n",
        "            num_counts[number] += 1\n",
        "        else:\n",
        "            num_counts[number] = 1\n",
        "\n",
        "    print(\"\\nNumber occurrences:\")\n",
        "    for num, count in num_counts.items():\n",
        "        print(f\"{num} appears {count} times.\")\n",
        "\n",
        "if __name__ == '__main__':\n",
        "    main()"
      ],
      "metadata": {
        "colab": {
          "base_uri": "https://localhost:8080/"
        },
        "id": "tTffevypjHkL",
        "outputId": "2cf847b0-ba1c-4696-d94e-b5ba348d0157"
      },
      "execution_count": null,
      "outputs": [
        {
          "output_type": "stream",
          "name": "stdout",
          "text": [
            "Enter a number (or press Enter to stop):4\n",
            "Enter a number (or press Enter to stop):5\n",
            "Enter a number (or press Enter to stop):4\n",
            "Enter a number (or press Enter to stop):2\n",
            "Enter a number (or press Enter to stop):5\n",
            "Enter a number (or press Enter to stop):\n",
            "\n",
            "Number occurrences:\n",
            "4 appears 2 times.\n",
            "5 appears 2 times.\n",
            "2 appears 1 times.\n"
          ]
        }
      ]
    },
    {
      "cell_type": "markdown",
      "source": [
        "### **01_phonebook**"
      ],
      "metadata": {
        "id": "5qS-2b7IkTRi"
      }
    },
    {
      "cell_type": "code",
      "source": [
        "def read_phone_numbers():\n",
        "    phonebook = {}\n",
        "    while True:\n",
        "        name = input(\"Name: \")\n",
        "        if name == \"\":\n",
        "            break\n",
        "        number = input(\"Number: \")\n",
        "        phonebook[name] = number\n",
        "    return phonebook\n",
        "\n",
        "def print_phonebook(phonebook):\n",
        "    for name in phonebook:\n",
        "        print(f\"{name} -> {phonebook[name]}\")\n",
        "\n",
        "def lookup_number(phonebook):\n",
        "    while True:\n",
        "        name = input(\"Enter name to lookup: \")\n",
        "        if name == \"\":\n",
        "            break\n",
        "        if name not in phonebook:\n",
        "            print(f\"{name} is not in the phonebook\")\n",
        "        else:\n",
        "            print(phonebook[name])\n",
        "\n",
        "def main():\n",
        "    phonebook = read_phone_numbers()\n",
        "    print_phonebook(phonebook)\n",
        "    lookup_number(phonebook)\n",
        "\n",
        "if __name__ == '__main__':\n",
        "    main()"
      ],
      "metadata": {
        "colab": {
          "base_uri": "https://localhost:8080/"
        },
        "id": "Nu6FuuoZknmc",
        "outputId": "9faff22d-0ba5-471b-af08-01802b59e467"
      },
      "execution_count": null,
      "outputs": [
        {
          "name": "stdout",
          "output_type": "stream",
          "text": [
            "Name: Moid\n",
            "Number: 12345\n",
            "Name: Salman\n",
            "Number: 98765\n",
            "Name: \n",
            "Moid -> 12345\n",
            "Salman -> 98765\n",
            "Enter name to lookup: Moid\n",
            "12345\n",
            "Enter name to lookup: Javed\n",
            "Javed is not in the phonebook\n",
            "Enter name to lookup: \n"
          ]
        }
      ]
    },
    {
      "cell_type": "markdown",
      "source": [
        "### **02_pop_up_shop**"
      ],
      "metadata": {
        "id": "sf9JjG94mBEY"
      }
    },
    {
      "cell_type": "code",
      "source": [
        "def main():\n",
        "    fruit_prices = {\n",
        "        \"apple\": 3.5,\n",
        "        \"durian\": 15.0,\n",
        "        \"jackfruit\": 20.0,\n",
        "        \"kiwi\": 2.5,\n",
        "        \"rambutan\": 5.0,\n",
        "        \"mango\": 7.0\n",
        "    }\n",
        "\n",
        "    total_cost = 0\n",
        "\n",
        "    for fruit, price in fruit_prices.items():\n",
        "        while True:\n",
        "            try:\n",
        "                quantity = int(input(f\"How many ({fruit}) do you want?: \"))\n",
        "                if quantity < 0:\n",
        "                    print(\"Please enter a non-negative number.\")\n",
        "                    continue\n",
        "                break\n",
        "            except ValueError:\n",
        "                print(\"Invalid input. Please enter a valid number.\")\n",
        "\n",
        "        total_cost += quantity * price\n",
        "\n",
        "    print(f\"\\nYour total is ${total_cost:.2f}\")\n",
        "\n",
        "if __name__ == '__main__':\n",
        "    main()\n"
      ],
      "metadata": {
        "colab": {
          "base_uri": "https://localhost:8080/"
        },
        "id": "mIwAtUmtmGex",
        "outputId": "6dd9c059-cd66-4c0a-b272-d837e7e6a4a6"
      },
      "execution_count": null,
      "outputs": [
        {
          "output_type": "stream",
          "name": "stdout",
          "text": [
            "How many (apple) do you want?: 3\n",
            "How many (durian) do you want?: 1\n",
            "How many (jackfruit) do you want?: 0\n",
            "How many (kiwi) do you want?: 5\n",
            "How many (rambutan) do you want?: 2\n",
            "How many (mango) do you want?: 4\n",
            "\n",
            "Your total is $76.00\n"
          ]
        }
      ]
    },
    {
      "cell_type": "markdown",
      "source": [
        "### **03_powerful_passwords**"
      ],
      "metadata": {
        "id": "ASdqQ1XYnAi5"
      }
    },
    {
      "cell_type": "code",
      "source": [
        "import hashlib\n",
        "\n",
        "def hash_password(password: str) -> str:\n",
        "    return hashlib.sha256(password.encode()).hexdigest()\n",
        "\n",
        "def login(email: str, password_to_check: str, stored_logins: dict) -> bool:\n",
        "    hashed_password = hash_password(password_to_check)\n",
        "    return stored_logins.get(email) == hashed_password\n",
        "\n",
        "def main():\n",
        "    stored_logins = {\n",
        "        \"moid@example.com\": hash_password(\"mypassword123\"),\n",
        "    }\n",
        "\n",
        "    email = input(\"Enter your email: \")\n",
        "    password = input(\"Enter your password: \")\n",
        "\n",
        "    if login(email, password, stored_logins):\n",
        "        print(\"Login successful!\")\n",
        "    else:\n",
        "        print(\"Login failed! Invalid email or password.\")\n",
        "\n",
        "if __name__ == '__main__':\n",
        "    main()\n"
      ],
      "metadata": {
        "colab": {
          "base_uri": "https://localhost:8080/"
        },
        "id": "EseLx8T8nXCR",
        "outputId": "28abdadd-82ee-4f56-9918-1829ad43615a"
      },
      "execution_count": null,
      "outputs": [
        {
          "output_type": "stream",
          "name": "stdout",
          "text": [
            "Enter your email: moid@example.com\n",
            "Enter your password: mypassword123\n",
            "Login successful!\n"
          ]
        }
      ]
    },
    {
      "cell_type": "markdown",
      "source": [
        "# **05_loops_control_flow**"
      ],
      "metadata": {
        "id": "2E9gk90IpiDP"
      }
    },
    {
      "cell_type": "markdown",
      "source": [
        "### **00_guess_my_number**"
      ],
      "metadata": {
        "id": "tcMSdkbAqFmX"
      }
    },
    {
      "cell_type": "code",
      "source": [
        "import random\n",
        "\n",
        "def main():\n",
        "    secret_number = random.randint(0, 99)\n",
        "    print(\"I am thinking of a number between 0 and 99...\")\n",
        "\n",
        "    while True:\n",
        "        try:\n",
        "            guess = int(input(\"Enter a guess: \"))\n",
        "            if guess < secret_number:\n",
        "                print(\"Your guess is too low\")\n",
        "            elif guess > secret_number:\n",
        "                print(\"Your guess is too high\")\n",
        "            else:\n",
        "                print(f\"Congrats! The number was: {secret_number}\")\n",
        "                break\n",
        "        except ValueError:\n",
        "            print(\"Please enter a valid number!\")\n",
        "\n",
        "if __name__ == '__main__':\n",
        "    main()\n"
      ],
      "metadata": {
        "colab": {
          "base_uri": "https://localhost:8080/"
        },
        "id": "JJgFZmEkqcX5",
        "outputId": "a8a40cee-1c7c-468c-c41a-171023b10192"
      },
      "execution_count": null,
      "outputs": [
        {
          "output_type": "stream",
          "name": "stdout",
          "text": [
            "I am thinking of a number between 0 and 99...\n",
            "Enter a guess: 50\n",
            "Your guess is too low\n",
            "Enter a guess: 55\n",
            "Your guess is too low\n",
            "Enter a guess: 60\n",
            "Your guess is too low\n",
            "Enter a guess: 70\n",
            "Your guess is too low\n",
            "Enter a guess: 80\n",
            "Your guess is too high\n",
            "Enter a guess: 75\n",
            "Your guess is too high\n",
            "Enter a guess: 74\n",
            "Your guess is too high\n",
            "Enter a guess: 73\n",
            "Your guess is too high\n",
            "Enter a guess: 72\n",
            "Your guess is too high\n",
            "Enter a guess: 71\n",
            "Congrats! The number was: 71\n"
          ]
        }
      ]
    },
    {
      "cell_type": "markdown",
      "source": [
        "### **01_fibonacci**"
      ],
      "metadata": {
        "id": "rHM9Kr6Trlk1"
      }
    },
    {
      "cell_type": "code",
      "source": [
        "def main():\n",
        "    MAX_VALUE = 10000\n",
        "\n",
        "    a, b = 0, 1\n",
        "\n",
        "    while a < MAX_VALUE:\n",
        "        print(a, end=\" \")\n",
        "        a, b = b, a + b\n",
        "\n",
        "if __name__ == '__main__':\n",
        "    main()\n"
      ],
      "metadata": {
        "colab": {
          "base_uri": "https://localhost:8080/"
        },
        "id": "ZdEsya2Nr6Zj",
        "outputId": "3abb3bf4-8eea-403b-d8f6-84820bcfc8c0"
      },
      "execution_count": null,
      "outputs": [
        {
          "output_type": "stream",
          "name": "stdout",
          "text": [
            "0 1 1 2 3 5 8 13 21 34 55 89 144 233 377 610 987 1597 2584 4181 6765 "
          ]
        }
      ]
    },
    {
      "cell_type": "markdown",
      "source": [
        "### **02_print_events**"
      ],
      "metadata": {
        "id": "IED4cNHPsqDc"
      }
    },
    {
      "cell_type": "code",
      "source": [
        "def main():\n",
        "    count = 20\n",
        "\n",
        "    for i in range(count):\n",
        "        print(i * 2, end=\" \")\n",
        "\n",
        "if __name__ == '__main__':\n",
        "    main()\n"
      ],
      "metadata": {
        "colab": {
          "base_uri": "https://localhost:8080/"
        },
        "id": "tggYhop3svPx",
        "outputId": "e15d2e0d-9405-4ae4-879c-ffe336caa73e"
      },
      "execution_count": null,
      "outputs": [
        {
          "output_type": "stream",
          "name": "stdout",
          "text": [
            "0 2 4 6 8 10 12 14 16 18 20 22 24 26 28 30 32 34 36 38 "
          ]
        }
      ]
    },
    {
      "cell_type": "markdown",
      "source": [
        "### **03_wholesome_machine**"
      ],
      "metadata": {
        "id": "W-A-rf2CtPG3"
      }
    },
    {
      "cell_type": "code",
      "source": [
        "def main():\n",
        "    affirmation = \"I am capable of doing anything I put my mind to.\"\n",
        "    print(f\"Please type the following affirmation: {affirmation}\")\n",
        "\n",
        "    while True:\n",
        "        user_input = input()\n",
        "        if user_input == affirmation:\n",
        "            print(\"That's right! :)\")\n",
        "            break\n",
        "        else:\n",
        "            print(\"Hmmm That was not the affirmation. Please type the following affirmation:\", affirmation)\n",
        "\n",
        "if __name__ == '__main__':\n",
        "    main()\n"
      ],
      "metadata": {
        "colab": {
          "base_uri": "https://localhost:8080/"
        },
        "id": "h1EQv2O6tTD4",
        "outputId": "6e324a29-c505-4b79-8959-46d58862f965"
      },
      "execution_count": null,
      "outputs": [
        {
          "output_type": "stream",
          "name": "stdout",
          "text": [
            "Please type the following affirmation: I am capable of doing anything I put my mind to.\n",
            "hello\n",
            "Hmmm That was not the affirmation. Please type the following affirmation: I am capable of doing anything I put my mind to.\n",
            "I am capable of doing anything I put my mind to.\n",
            "That's right! :)\n"
          ]
        }
      ]
    },
    {
      "cell_type": "markdown",
      "source": [
        "### **04_liftoff**"
      ],
      "metadata": {
        "id": "LpGn0VlDuR5R"
      }
    },
    {
      "cell_type": "code",
      "source": [
        "def main():\n",
        "    for i in range(10, 0, -1):\n",
        "        print(i, end=\" \")\n",
        "    print(\"Liftoff!\")\n",
        "\n",
        "if __name__ == '__main__':\n",
        "    main()\n"
      ],
      "metadata": {
        "colab": {
          "base_uri": "https://localhost:8080/"
        },
        "id": "HHWxcLcaufxN",
        "outputId": "8f9834da-55b0-4c49-b732-88f70e104a65"
      },
      "execution_count": null,
      "outputs": [
        {
          "output_type": "stream",
          "name": "stdout",
          "text": [
            "10 9 8 7 6 5 4 3 2 1 Liftoff!\n"
          ]
        }
      ]
    },
    {
      "cell_type": "markdown",
      "source": [
        "### **05_double_it**"
      ],
      "metadata": {
        "id": "Bc5zbqWWvNSW"
      }
    },
    {
      "cell_type": "code",
      "source": [
        "def main():\n",
        "    curr_value = int(input(\"Enter a number: \"))\n",
        "    while curr_value < 100:\n",
        "        curr_value *= 2\n",
        "        print(curr_value, end=\" \")\n",
        "    print()\n",
        "\n",
        "if __name__ == '__main__':\n",
        "    main()\n"
      ],
      "metadata": {
        "colab": {
          "base_uri": "https://localhost:8080/"
        },
        "id": "4vGRFF0LvRvT",
        "outputId": "40fee74d-9792-4b61-dd54-098493680513"
      },
      "execution_count": null,
      "outputs": [
        {
          "output_type": "stream",
          "name": "stdout",
          "text": [
            "Enter a number: 5\n",
            "10 20 40 80 160 \n"
          ]
        }
      ]
    },
    {
      "cell_type": "markdown",
      "source": [
        "# **06_functions**"
      ],
      "metadata": {
        "id": "FFGeIA56vo0G"
      }
    },
    {
      "cell_type": "markdown",
      "source": [
        "### **00_averages**"
      ],
      "metadata": {
        "id": "_WI33o4jwFKh"
      }
    },
    {
      "cell_type": "code",
      "source": [
        "def find_average(num1, num2):\n",
        "    return (num1 + num2) / 2\n",
        "\n",
        "def main():\n",
        "\n",
        "    num1 = float(input(\"Enter the first number: \"))\n",
        "    num2 = float(input(\"Enter the second number: \"))\n",
        "\n",
        "    average = find_average(num1, num2)\n",
        "    print(f\"The average of {num1} and {num2} is: {average}\")\n",
        "\n",
        "if __name__ == '__main__':\n",
        "    main()\n"
      ],
      "metadata": {
        "colab": {
          "base_uri": "https://localhost:8080/"
        },
        "id": "-MSOFWeYwQeV",
        "outputId": "ac240b28-d41e-4ddf-c1f5-dcf03c3793c3"
      },
      "execution_count": null,
      "outputs": [
        {
          "output_type": "stream",
          "name": "stdout",
          "text": [
            "Enter the first number: 10\n",
            "Enter the second number: 20\n",
            "The average of 10.0 and 20.0 is: 15.0\n"
          ]
        }
      ]
    },
    {
      "cell_type": "markdown",
      "source": [
        "### **01_chaotic_counting**"
      ],
      "metadata": {
        "id": "IAkLyre7wcxY"
      }
    },
    {
      "cell_type": "code",
      "source": [
        "import random\n",
        "\n",
        "DONE_LIKELIHOOD = 0.2\n",
        "\n",
        "def done():\n",
        "    \"\"\"Returns True with a probability of DONE_LIKELIHOOD\"\"\"\n",
        "    return random.random() < DONE_LIKELIHOOD\n",
        "\n",
        "def chaotic_counting():\n",
        "    \"\"\"Counts from 1 to 10, but stops early if done() returns True\"\"\"\n",
        "    for i in range(1, 11):\n",
        "        if done():\n",
        "            return\n",
        "        print(i, end=\" \")\n",
        "\n",
        "def main():\n",
        "    print(\"I'm going to count until 10 or until I feel like stopping, whichever comes first.\")\n",
        "    chaotic_counting()\n",
        "    print(\"\\nI'm done.\")\n",
        "\n",
        "if __name__ == '__main__':\n",
        "    main()\n"
      ],
      "metadata": {
        "colab": {
          "base_uri": "https://localhost:8080/"
        },
        "id": "GEIkD6PxwhRN",
        "outputId": "30934470-b6f9-4e35-d7e2-16d645552216"
      },
      "execution_count": null,
      "outputs": [
        {
          "output_type": "stream",
          "name": "stdout",
          "text": [
            "I'm going to count until 10 or until I feel like stopping, whichever comes first.\n",
            "1 2 3 4 5 \n",
            "I'm done.\n"
          ]
        }
      ]
    },
    {
      "cell_type": "markdown",
      "source": [
        "### **02_count_even**"
      ],
      "metadata": {
        "id": "tdiaED_Bw0pv"
      }
    },
    {
      "cell_type": "code",
      "source": [
        "def count_even():\n",
        "    lst = []\n",
        "\n",
        "    while True:\n",
        "        user_input = input(\"Enter an integer or press enter to stop: \")\n",
        "\n",
        "        if user_input == \"\":\n",
        "            break\n",
        "\n",
        "        try:\n",
        "            num = int(user_input)\n",
        "            lst.append(num)\n",
        "        except ValueError:\n",
        "            print(\"Invalid input. Please enter an integer.\")\n",
        "\n",
        "    even_count = sum(1 for num in lst if num % 2 == 0)\n",
        "    print(f\"Number of even numbers: {even_count}\")\n",
        "\n",
        "def main():\n",
        "    count_even()\n",
        "\n",
        "if __name__ == '__main__':\n",
        "    main()\n"
      ],
      "metadata": {
        "colab": {
          "base_uri": "https://localhost:8080/"
        },
        "id": "AClKcrrKw_Yt",
        "outputId": "e1b34358-4f03-40d2-87a0-1544a382d0c5"
      },
      "execution_count": null,
      "outputs": [
        {
          "output_type": "stream",
          "name": "stdout",
          "text": [
            "Enter an integer or press enter to stop: 4\n",
            "Enter an integer or press enter to stop: 7\n",
            "Enter an integer or press enter to stop: 12\n",
            "Enter an integer or press enter to stop: \n",
            "Number of even numbers: 2\n"
          ]
        }
      ]
    },
    {
      "cell_type": "markdown",
      "source": [
        "### **04_double**"
      ],
      "metadata": {
        "id": "-wDjW_1HxSX4"
      }
    },
    {
      "cell_type": "code",
      "source": [
        "def double(num):\n",
        "    return num * 2\n",
        "\n",
        "def main():\n",
        "    num = int(input(\"Enter a number: \"))\n",
        "    result = double(num)\n",
        "    print(f\"Double that is {result}\")\n",
        "\n",
        "if __name__ == '__main__':\n",
        "    main()\n"
      ],
      "metadata": {
        "colab": {
          "base_uri": "https://localhost:8080/"
        },
        "id": "al5EKbdext7s",
        "outputId": "f7899183-6bc6-415f-ef60-dce529223680"
      },
      "execution_count": null,
      "outputs": [
        {
          "output_type": "stream",
          "name": "stdout",
          "text": [
            "Enter a number: 5\n",
            "Double that is 10\n"
          ]
        }
      ]
    },
    {
      "cell_type": "markdown",
      "source": [
        "### **05_get_name**"
      ],
      "metadata": {
        "id": "O61C0TwxyE6A"
      }
    },
    {
      "cell_type": "code",
      "source": [
        "def get_name():\n",
        "    return \"Sophia\"\n",
        "\n",
        "def main():\n",
        "    name = get_name()\n",
        "    print(f\"Howdy {name} ! 🤠\")\n",
        "\n",
        "if __name__ == '__main__':\n",
        "    main()\n"
      ],
      "metadata": {
        "colab": {
          "base_uri": "https://localhost:8080/"
        },
        "id": "ywvyAav3yTlV",
        "outputId": "2b0bfbd6-a138-4a02-8ce4-3d4a6681b736"
      },
      "execution_count": null,
      "outputs": [
        {
          "output_type": "stream",
          "name": "stdout",
          "text": [
            "Howdy Sophia ! 🤠\n"
          ]
        }
      ]
    },
    {
      "cell_type": "markdown",
      "source": [
        "### **06_is_odd**"
      ],
      "metadata": {
        "id": "aUHaq_G7ylQf"
      }
    },
    {
      "cell_type": "code",
      "source": [
        "def main():\n",
        "    for num in range(10, 20):\n",
        "        if num % 2 == 0:\n",
        "            print(f\"{num} even\")\n",
        "        else:\n",
        "            print(f\"{num} odd\")\n",
        "\n",
        "if __name__ == '__main__':\n",
        "    main()\n"
      ],
      "metadata": {
        "colab": {
          "base_uri": "https://localhost:8080/"
        },
        "id": "qlDl8tG1yqLn",
        "outputId": "58221f90-d24b-40c8-c724-dd01f3c10d34"
      },
      "execution_count": null,
      "outputs": [
        {
          "output_type": "stream",
          "name": "stdout",
          "text": [
            "10 even\n",
            "11 odd\n",
            "12 even\n",
            "13 odd\n",
            "14 even\n",
            "15 odd\n",
            "16 even\n",
            "17 odd\n",
            "18 even\n",
            "19 odd\n"
          ]
        }
      ]
    },
    {
      "cell_type": "markdown",
      "source": [
        "### **07_print_divisor**"
      ],
      "metadata": {
        "id": "FmeYidSvy3OZ"
      }
    },
    {
      "cell_type": "code",
      "source": [
        "def print_divisors(num):\n",
        "\n",
        "    for i in range(1, num + 1):\n",
        "        if num % i == 0:\n",
        "            print(i, end=' ')\n",
        "    print()\n",
        "\n",
        "def main():\n",
        "\n",
        "    num = int(input(\"Enter a number: \"))\n",
        "    print(f\"Here are the divisors of {num}\")\n",
        "    print_divisors(num)\n",
        "if __name__ == '__main__':\n",
        "    main()\n"
      ],
      "metadata": {
        "colab": {
          "base_uri": "https://localhost:8080/"
        },
        "id": "JPHNVziDy_P0",
        "outputId": "e3182531-1e0e-4acd-e66b-8251bcafab58"
      },
      "execution_count": null,
      "outputs": [
        {
          "output_type": "stream",
          "name": "stdout",
          "text": [
            "Enter a number: 12\n",
            "Here are the divisors of 12\n",
            "1 2 3 4 6 12 \n"
          ]
        }
      ]
    },
    {
      "cell_type": "markdown",
      "source": [
        "### **08_print_multiple**"
      ],
      "metadata": {
        "id": "cdZROfd0zZlO"
      }
    },
    {
      "cell_type": "code",
      "source": [
        "def print_multiple(message: str, repeats: int):\n",
        "    for i in range(repeats):\n",
        "        print(message)\n",
        "\n",
        "def main():\n",
        "    message = input(\"Please type a message: \")\n",
        "    repeats = int(input(\"Enter a number of times to repeat your message: \"))\n",
        "    print_multiple(message, repeats)\n",
        "\n",
        "if __name__ == \"__main__\":\n",
        "    main()\n"
      ],
      "metadata": {
        "colab": {
          "base_uri": "https://localhost:8080/"
        },
        "id": "DkB2WvQwzeQf",
        "outputId": "ef35d6d9-81b8-486b-ca74-bac3fb13efd5"
      },
      "execution_count": null,
      "outputs": [
        {
          "output_type": "stream",
          "name": "stdout",
          "text": [
            "Please type a message: Hello\n",
            "Enter a number of times to repeat your message: 3\n",
            "Hello\n",
            "Hello\n",
            "Hello\n"
          ]
        }
      ]
    },
    {
      "cell_type": "markdown",
      "source": [
        "### **09_sentence_generator**"
      ],
      "metadata": {
        "id": "qfjY3tfIz_gw"
      }
    },
    {
      "cell_type": "code",
      "source": [
        "def make_sentence(word: str, part_of_speech: int):\n",
        "    if part_of_speech == 0:\n",
        "        print(f\"I am excited to add this {word} to my vast collection of them!\")\n",
        "    elif part_of_speech == 1:\n",
        "        print(f\"It's so nice outside today it makes me want to {word}!\")\n",
        "    elif part_of_speech == 2:\n",
        "        print(f\"Looking out my window, the sky is big and {word}!\")\n",
        "    else:\n",
        "        print(\"Invalid choice! Please enter 0 for noun, 1 for verb, or 2 for adjective.\")\n",
        "\n",
        "def main():\n",
        "    word = input(\"Please type a noun, verb, or adjective: \")\n",
        "\n",
        "    try:\n",
        "        part_of_speech = int(input(\"Is this a noun, verb, or adjective? Type 0 for noun, 1 for verb, 2 for adjective: \"))\n",
        "        make_sentence(word, part_of_speech)\n",
        "    except ValueError:\n",
        "        print(\"Invalid input! Please enter a number (0, 1, or 2).\")\n",
        "\n",
        "if __name__ == \"__main__\":\n",
        "    main()\n"
      ],
      "metadata": {
        "colab": {
          "base_uri": "https://localhost:8080/"
        },
        "id": "i5UuO2a20CVa",
        "outputId": "3acf6c3f-b53a-40fa-8a3a-d9e66a8f810f"
      },
      "execution_count": null,
      "outputs": [
        {
          "output_type": "stream",
          "name": "stdout",
          "text": [
            "Please type a noun, verb, or adjective: dog\n",
            "Is this a noun, verb, or adjective? Type 0 for noun, 1 for verb, 2 for adjective: 0\n",
            "I am excited to add this dog to my vast collection of them!\n"
          ]
        }
      ]
    },
    {
      "cell_type": "markdown",
      "source": [
        "### **10_print_ones_digit**"
      ],
      "metadata": {
        "id": "CZ3OLzvx0lBk"
      }
    },
    {
      "cell_type": "code",
      "source": [
        "def print_ones_digit(num):\n",
        "    print(\"The ones digit is\", num % 10)\n",
        "\n",
        "def main():\n",
        "    num = int(input(\"Enter a number: \"))\n",
        "    print_ones_digit(num)\n",
        "\n",
        "if __name__ == '__main__':\n",
        "    main()\n"
      ],
      "metadata": {
        "colab": {
          "base_uri": "https://localhost:8080/"
        },
        "id": "uLy4_dx70wKX",
        "outputId": "02efbbcc-aec5-494f-f339-fb1562257470"
      },
      "execution_count": null,
      "outputs": [
        {
          "output_type": "stream",
          "name": "stdout",
          "text": [
            "Enter a number: 1234\n",
            "The ones digit is 4\n"
          ]
        }
      ]
    },
    {
      "cell_type": "markdown",
      "source": [
        "# **07_information_flow**"
      ],
      "metadata": {
        "id": "Kk346yzF3SCg"
      }
    },
    {
      "cell_type": "markdown",
      "source": [
        "### **00_choosing_returns**"
      ],
      "metadata": {
        "id": "JHYUmOYu3y3b"
      }
    },
    {
      "cell_type": "code",
      "source": [
        "ADULT_AGE = 18\n",
        "\n",
        "def is_adult(age):\n",
        "    \"\"\"Returns True if the age is 18 or older, otherwise returns False.\"\"\"\n",
        "    return age >= ADULT_AGE\n",
        "\n",
        "def main():\n",
        "    age = int(input(\"How old is this person?: \"))\n",
        "    print(is_adult(age))\n",
        "\n",
        "if __name__ == '__main__':\n",
        "    main()\n"
      ],
      "metadata": {
        "colab": {
          "base_uri": "https://localhost:8080/"
        },
        "id": "jYZeguz632u4",
        "outputId": "3411eb04-36e1-48c9-a0da-1fb923e453f2"
      },
      "execution_count": null,
      "outputs": [
        {
          "output_type": "stream",
          "name": "stdout",
          "text": [
            "How old is this person?: 25\n",
            "True\n"
          ]
        }
      ]
    },
    {
      "cell_type": "markdown",
      "source": [
        "### **01_greetings**"
      ],
      "metadata": {
        "id": "DhmGIwwV4IuA"
      }
    },
    {
      "cell_type": "code",
      "source": [
        "def greet(name):\n",
        "    \"\"\"Prints a greeting with the given name.\"\"\"\n",
        "    print(f\"Greetings {name}!\")\n",
        "\n",
        "def main():\n",
        "    name = input(\"What's your name? \")\n",
        "    greet(name)\n",
        "\n",
        "if __name__ == '__main__':\n",
        "    main()\n"
      ],
      "metadata": {
        "colab": {
          "base_uri": "https://localhost:8080/"
        },
        "id": "ftvI1al14TcI",
        "outputId": "0e4c38e7-5f67-49cc-c48a-48ba315ceaf1"
      },
      "execution_count": null,
      "outputs": [
        {
          "output_type": "stream",
          "name": "stdout",
          "text": [
            "What's your name? Moid\n",
            "Greetings Moid!\n"
          ]
        }
      ]
    },
    {
      "cell_type": "markdown",
      "source": [
        "### **02_in_range**"
      ],
      "metadata": {
        "id": "kueuxclk4t-o"
      }
    },
    {
      "cell_type": "code",
      "source": [
        "def in_range(n, low, high):\n",
        "    \"\"\"Returns True if n is between low and high (inclusive).\"\"\"\n",
        "    return low <= n <= high\n",
        "\n",
        "def main():\n",
        "    n = int(input(\"Enter a number: \"))\n",
        "    low = int(input(\"Enter the lower limit: \"))\n",
        "    high = int(input(\"Enter the upper limit: \"))\n",
        "    result = in_range(n, low, high)\n",
        "    print(result)\n",
        "\n",
        "if __name__ == '__main__':\n",
        "    main()\n"
      ],
      "metadata": {
        "colab": {
          "base_uri": "https://localhost:8080/"
        },
        "id": "28bEOD2C4xBP",
        "outputId": "3af8ef47-e8c8-4dac-8635-32c4d7eb5c92"
      },
      "execution_count": null,
      "outputs": [
        {
          "output_type": "stream",
          "name": "stdout",
          "text": [
            "Enter a number: 5\n",
            "Enter the lower limit: 1\n",
            "Enter the upper limit: 10\n",
            "True\n"
          ]
        }
      ]
    },
    {
      "cell_type": "markdown",
      "source": [
        "### **03_in_stock**"
      ],
      "metadata": {
        "id": "OQZ0TDVN5Yq7"
      }
    },
    {
      "cell_type": "code",
      "source": [
        "def num_in_stock(fruit):\n",
        "\n",
        "    inventory = {\n",
        "        \"apple\": 500,\n",
        "        \"banana\": 300,\n",
        "        \"pear\": 1000,\n",
        "        \"orange\": 250,\n",
        "        \"mango\": 700\n",
        "    }\n",
        "\n",
        "    return inventory.get(fruit.lower(), 0)\n",
        "\n",
        "def main():\n",
        "\n",
        "    fruit = input(\"Enter a fruit: \").strip()\n",
        "\n",
        "    stock = num_in_stock(fruit)\n",
        "\n",
        "    if stock > 0:\n",
        "        print(\"This fruit is in stock! Here is how many:\")\n",
        "        print(stock)\n",
        "    else:\n",
        "        print(\"This fruit is not in stock.\")\n",
        "\n",
        "if __name__ == '__main__':\n",
        "    main()\n"
      ],
      "metadata": {
        "colab": {
          "base_uri": "https://localhost:8080/"
        },
        "id": "EDvdjAEJ5cQp",
        "outputId": "514bfb53-6e6a-4d64-c7ab-149068d5e07d"
      },
      "execution_count": null,
      "outputs": [
        {
          "output_type": "stream",
          "name": "stdout",
          "text": [
            "Enter a fruit: apple\n",
            "This fruit is in stock! Here is how many:\n",
            "500\n"
          ]
        }
      ]
    },
    {
      "cell_type": "markdown",
      "source": [
        "### **04_multiple_returns**"
      ],
      "metadata": {
        "id": "Z_EgZpSW5249"
      }
    },
    {
      "cell_type": "code",
      "source": [
        "def get_user_data():\n",
        "    first_name = input(\"What is your first name?: \").strip()\n",
        "    last_name = input(\"What is your last name?: \").strip()\n",
        "    email = input(\"What is your email address?: \").strip()\n",
        "\n",
        "    return first_name, last_name, email\n",
        "\n",
        "def main():\n",
        "    user_data = get_user_data()\n",
        "    print(\"Received the following user data:\", user_data)\n",
        "if __name__ == '__main__':\n",
        "    main()\n"
      ],
      "metadata": {
        "colab": {
          "base_uri": "https://localhost:8080/"
        },
        "id": "YGtymnu05-L_",
        "outputId": "2220ef51-9950-419a-f1d8-e9ddacdce0bb"
      },
      "execution_count": null,
      "outputs": [
        {
          "output_type": "stream",
          "name": "stdout",
          "text": [
            "What is your first name?: Moid\n",
            "What is your last name?: Uddin\n",
            "What is your email address?: moiduddin990@gmail.com\n",
            "Received the following user data: ('Moid', 'Uddin', 'moiduddin990@gmail.com')\n"
          ]
        }
      ]
    },
    {
      "cell_type": "markdown",
      "source": [
        "### **05_subtract_7**"
      ],
      "metadata": {
        "id": "Vm0qHJcw6qgY"
      }
    },
    {
      "cell_type": "code",
      "source": [
        "def subtract_seven(num):\n",
        "    return num - 7\n",
        "\n",
        "def main():\n",
        "    number = int(input(\"Enter a number: \"))\n",
        "    result = subtract_seven(number)\n",
        "    print(\"Result after subtracting 7:\", result)\n",
        "if __name__ == '__main__':\n",
        "    main()\n"
      ],
      "metadata": {
        "colab": {
          "base_uri": "https://localhost:8080/"
        },
        "id": "2ehY_77-6vw1",
        "outputId": "9a2d0e87-3079-44e2-9183-359f9a15c0ca"
      },
      "execution_count": null,
      "outputs": [
        {
          "output_type": "stream",
          "name": "stdout",
          "text": [
            "Enter a number: 15\n",
            "Result after subtracting 7: 8\n"
          ]
        }
      ]
    }
  ]
}